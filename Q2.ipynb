{
 "cells": [
  {
   "cell_type": "code",
   "execution_count": 101,
   "metadata": {},
   "outputs": [],
   "source": [
    "import matplotlib\n",
    "\n",
    "import numpy as np\n",
    "import pandas as pd\n",
    "import matplotlib.pyplot as plt\n",
    "\n",
    "from datetime import datetime\n",
    "from helpers import download_dataset"
   ]
  },
  {
   "cell_type": "code",
   "execution_count": 60,
   "metadata": {},
   "outputs": [
    {
     "name": "stdout",
     "output_type": "stream",
     "text": [
      "Warning: Your Kaggle API key is readable by other users on this system! To fix this, you can run 'chmod 600 /home/koksang/Projects/seek/kaggle.json'\n"
     ]
    }
   ],
   "source": [
    "URL = 'https://www.kaggle.com/crawford/weekly-sales-transactions'\n",
    "DEST = './data'\n",
    "download_dataset(URL, './data')\n",
    "df = pd.read_csv('./data/%s' % 'Sales_Transactions_Dataset_Weekly.csv', encoding='utf-8').dropna()"
   ]
  },
  {
   "cell_type": "code",
   "execution_count": 61,
   "metadata": {},
   "outputs": [],
   "source": [
    "week_cols = ['W%s' % i for i in range(52)]\n",
    "norm_cols = ['Normalized %s' % i for i in range(52)]\n",
    "\n",
    "week_df = df[week_cols]\n",
    "norm_df = df[norm_cols]"
   ]
  },
  {
   "cell_type": "code",
   "execution_count": 62,
   "metadata": {},
   "outputs": [],
   "source": [
    "minimum = pd.concat([df.Product_Code, week_df.min(axis=1)], keys=['Product_Code', 'Min'], axis=1)\n",
    "maximum = pd.concat([df.Product_Code, week_df.max(axis=1)], keys=['Product_Code', 'Max'], axis=1)\n",
    "median = pd.concat([df.Product_Code, week_df.median(axis=1)], keys=['Product_Code', 'Median'], axis=1)"
   ]
  },
  {
   "cell_type": "code",
   "execution_count": 63,
   "metadata": {},
   "outputs": [
    {
     "data": {
      "image/png": "[encoded data removed]",
      "text/plain": [
       "<Figure size 720x1152 with 3 Axes>"
      ]
     },
     "metadata": {
      "needs_background": "light"
     },
     "output_type": "display_data"
    }
   ],
   "source": [
    "plt.figure(figsize=(10,16))\n",
    "plot = {'Minimum': minimum.Min, 'Maximum': maximum.Max, 'Median': median.Median}\n",
    "colour = ['blue', 'red', 'green']\n",
    "\n",
    "for i in range(1, 4):\n",
    "    plt.subplot(3, 1, i)\n",
    "    title = list(plot.keys())[i-1]\n",
    "    plt.title(title)\n",
    "    plt.xlabel('Value')\n",
    "    plt.ylabel('Frequency')\n",
    "    plt.hist(plot[title], bins=10, color=colour[i-1])"
   ]
  },
  {
   "cell_type": "code",
   "execution_count": 85,
   "metadata": {},
   "outputs": [
    {
     "data": {
      "text/plain": [
       "'P409'"
      ]
     },
     "execution_count": 85,
     "metadata": {},
     "output_type": "execute_result"
    }
   ],
   "source": [
    "best_performing_product =  df.loc[df[week_cols].sum(axis=1).idxmax(), 'Product_Code']\n",
    "#most_promising_product = \n",
    "#worst_performing_product"
   ]
  },
  {
   "cell_type": "code",
   "execution_count": 81,
   "metadata": {},
   "outputs": [
    {
     "data": {
      "text/plain": [
       "2220"
      ]
     },
     "execution_count": 81,
     "metadata": {},
     "output_type": "execute_result"
    }
   ],
   "source": [
    "df.loc[406, week_cols].sum()"
   ]
  },
  {
   "cell_type": "code",
   "execution_count": 88,
   "metadata": {},
   "outputs": [],
   "source": [
    "def get(data):\n",
    "    data = data[week_cols]\n",
    "    max_z_score = 3"
   ]
  },
  {
   "cell_type": "code",
   "execution_count": 99,
   "metadata": {},
   "outputs": [],
   "source": [
    "def get_outliers(sales_data):\n",
    "    print('Outliers by week \\n')\n",
    "    sales_np_array = np.array(sales_data.loc[:, sales_data.columns[1:53]])\n",
    "    print(\"\\n\")\n",
    "    for row in sales_np_array:\n",
    "        mean = np.mean(row)\n",
    "        std = np.std(row)\n",
    "        scores = [(i-mean) / std for i in row]\n",
    "        index_data = np.array(np.where(np.abs(scores) > 3)).tolist()\n",
    "    print(sales_data.columns[[i for index in index_data for i in index]])"
   ]
  },
  {
   "cell_type": "code",
   "execution_count": 100,
   "metadata": {},
   "outputs": [
    {
     "name": "stdout",
     "output_type": "stream",
     "text": [
      "Outliers by week \n",
      "\n",
      "\n",
      "\n",
      "Index(['W17', 'W34'], dtype='object')\n"
     ]
    }
   ],
   "source": [
    "gg = get_outliers(df)"
   ]
  },
  {
   "cell_type": "code",
   "execution_count": null,
   "metadata": {},
   "outputs": [],
   "source": []
  }
 ],
 "metadata": {
  "kernelspec": {
   "display_name": "Python 3",
   "language": "python",
   "name": "python3"
  },
  "language_info": {
   "codemirror_mode": {
    "name": "ipython",
    "version": 3
   },
   "file_extension": ".py",
   "mimetype": "text/x-python",
   "name": "python",
   "nbconvert_exporter": "python",
   "pygments_lexer": "ipython3",
   "version": "3.7.3"
  }
 },
 "nbformat": 4,
 "nbformat_minor": 2
}
