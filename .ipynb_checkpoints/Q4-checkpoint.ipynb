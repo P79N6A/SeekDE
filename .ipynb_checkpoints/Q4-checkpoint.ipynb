{
 "cells": [
  {
   "cell_type": "code",
   "execution_count": 1,
   "metadata": {
    "colab": {
     "base_uri": "https://localhost:8080/",
     "height": 54
    },
    "colab_type": "code",
    "id": "dRgEmxZL7-38",
    "outputId": "d58cd7cf-58a1-475a-f418-226a03daefe3"
   },
   "outputs": [
    {
     "name": "stdout",
     "output_type": "stream",
     "text": [
      "Drive already mounted at /content/gdrive; to attempt to forcibly remount, call drive.mount(\"/content/gdrive\", force_remount=True).\n"
     ]
    }
   ],
   "source": [
    "from google.colab import drive\n",
    "drive.mount('/content/gdrive')"
   ]
  },
  {
   "cell_type": "code",
   "execution_count": 0,
   "metadata": {
    "colab": {},
    "colab_type": "code",
    "id": "1IAYfDvI9SVs"
   },
   "outputs": [],
   "source": [
    "import os\n",
    "os.chdir('/content/gdrive/My Drive/seek')"
   ]
  },
  {
   "cell_type": "markdown",
   "metadata": {
    "colab_type": "text",
    "id": "df5QtKXdAbil"
   },
   "source": [
    "# Installing:\n",
    "- java\n",
    "- download spark-2.4.3\n",
    "- unzip spark\n",
    "- install findspark\n",
    "- redirect JAVA_HOME and SPARK_HOME dependencies"
   ]
  },
  {
   "cell_type": "code",
   "execution_count": 0,
   "metadata": {
    "colab": {},
    "colab_type": "code",
    "id": "QhkU4XH-Ct8p"
   },
   "outputs": [],
   "source": [
    "!apt-get install openjdk-8-jdk-headless -qq > /dev/null\n",
    "!wget -q https://www-us.apache.org/dist/spark/spark-2.4.3/spark-2.4.3-bin-hadoop2.7.tgz\n",
    "!tar xf spark-2.4.3-bin-hadoop2.7.tgz\n",
    "!pip install -q findspark"
   ]
  },
  {
   "cell_type": "code",
   "execution_count": 0,
   "metadata": {
    "colab": {},
    "colab_type": "code",
    "id": "hVu07r-R_dce"
   },
   "outputs": [],
   "source": [
    "os.environ[\"JAVA_HOME\"] = \"/usr/lib/jvm/java-8-openjdk-amd64\"\n",
    "os.environ[\"SPARK_HOME\"] = \"/content/gdrive/My Drive/seek/spark-2.4.3-bin-hadoop2.7\""
   ]
  },
  {
   "cell_type": "markdown",
   "metadata": {
    "colab_type": "text",
    "id": "QMCTFxZKQ2bh"
   },
   "source": [
    "# IGNORE ALL THE BLOCKS ABOVE IF YOU ARE NOT RUNNING ON COLAB"
   ]
  },
  {
   "cell_type": "code",
   "execution_count": 0,
   "metadata": {
    "colab": {},
    "colab_type": "code",
    "id": "Wm9aLpEgAR_k"
   },
   "outputs": [],
   "source": [
    "import findspark\n",
    "findspark.init()"
   ]
  },
  {
   "cell_type": "code",
   "execution_count": 0,
   "metadata": {
    "colab": {},
    "colab_type": "code",
    "id": "IP5uQlnmBRrI"
   },
   "outputs": [],
   "source": [
    "import warnings\n",
    "import random\n",
    "import tqdm\n",
    "import spacy\n",
    "\n",
    "import pyspark as ps\n",
    "import numpy as np\n",
    "import pandas as pd\n",
    "import matplotlib.pyplot as plt\n",
    "\n",
    "from pyspark.sql import SparkSession\n",
    "from pyspark.sql.types import FloatType, IntegerType, StringType, MapType\n",
    "from pyspark.sql.functions import udf\n",
    "from pyspark.ml.feature import HashingTF, IDF, VectorAssembler, Tokenizer, OneHotEncoderEstimator\n",
    "from pyspark.ml import Pipeline\n",
    "from pyspark.ml.classification import LogisticRegression\n",
    "from pyspark.ml.evaluation import BinaryClassificationEvaluator\n",
    "from datetime import datetime\n",
    "from helpers import download_dataset"
   ]
  },
  {
   "cell_type": "markdown",
   "metadata": {
    "colab_type": "text",
    "id": "6yooUkbbQ2bq"
   },
   "source": [
    "# Initialize spark session\n",
    "Here I initialize a **`local`** server with **`number of workers`** equals to **`CPU cores counts`**"
   ]
  },
  {
   "cell_type": "code",
   "execution_count": 0,
   "metadata": {
    "colab": {},
    "colab_type": "code",
    "id": "S91JEif4BDrP"
   },
   "outputs": [],
   "source": [
    "spark = SparkSession.builder.master(\"local[*]\").getOrCreate()"
   ]
  },
  {
   "cell_type": "markdown",
   "metadata": {
    "colab_type": "text",
    "id": "csmUWlIFQ2bw"
   },
   "source": [
    "# Dataset source acquiring\n",
    "Here I **download** and **read** dataset in csv format"
   ]
  },
  {
   "cell_type": "code",
   "execution_count": 0,
   "metadata": {
    "colab": {},
    "colab_type": "code",
    "id": "IAbwcr_dFLAC"
   },
   "outputs": [],
   "source": [
    "URL = 'https://www.kaggle.com/rishisankineni/text-similarity/data'\n",
    "DEST = './data'\n",
    "download_dataset(URL, './data')"
   ]
  },
  {
   "cell_type": "code",
   "execution_count": 0,
   "metadata": {
    "colab": {},
    "colab_type": "code",
    "id": "St6kXh9uFSPd"
   },
   "outputs": [],
   "source": [
    "train_df = spark.read.csv('./data/%s' % 'train.csv', encoding='utf-8', header=True, inferSchema=True)\n",
    "test_df = spark.read.csv('./data/%s' % 'test.csv', encoding='utf-8', header=True, inferSchema=True)"
   ]
  },
  {
   "cell_type": "markdown",
   "metadata": {
    "colab_type": "text",
    "id": "EQbaWrwMQ2b4"
   },
   "source": [
    "# Visualization\n",
    "### Visualizing dataset labels"
   ]
  },
  {
   "cell_type": "code",
   "execution_count": 10,
   "metadata": {
    "colab": {
     "base_uri": "https://localhost:8080/",
     "height": 459
    },
    "colab_type": "code",
    "id": "JcQLOCmEFTuK",
    "outputId": "d40fefda-105c-4829-d54f-985522de9b2d"
   },
   "outputs": [
    {
     "name": "stdout",
     "output_type": "stream",
     "text": [
      "+---+--------------------+--------------------+--------+--------+-------------+\n",
      "|_c0|       description_x|       description_y|ticker_x|ticker_y|same_security|\n",
      "+---+--------------------+--------------------+--------+--------+-------------+\n",
      "|  0|first trust dow j...|first trust dj in...|     FDN|     FDN|         true|\n",
      "|  1|schwab intl large...|schwab strategic ...|    FNDF|    FNDF|         true|\n",
      "|  2|vanguard small ca...|vanguard small-ca...|   VSMAX|   VSCIX|        false|\n",
      "|  3|duke energy corp ...|duke energy corp ...|     DUK|     DUK|         true|\n",
      "|  4|    visa inc class a|           visa inc.|       V|       V|         true|\n",
      "+---+--------------------+--------------------+--------+--------+-------------+\n",
      "only showing top 5 rows\n",
      "\n",
      "None\n"
     ]
    },
    {
     "data": {
      "image/png": "[encoded data removed]",
      "text/plain": [
       "<Figure size 432x288 with 1 Axes>"
      ]
     },
     "metadata": {
      "tags": []
     },
     "output_type": "display_data"
    }
   ],
   "source": [
    "print(train_df.show(5))\n",
    "\n",
    "labels = [True, False]\n",
    "sizes = [train_df[train_df.same_security==True].count(), train_df[train_df.same_security==False].count()]\n",
    "\n",
    "plt.pie(sizes, labels=labels)\n",
    "plt.show()"
   ]
  },
  {
   "cell_type": "markdown",
   "metadata": {
    "colab_type": "text",
    "id": "U_I4aka-Q2b9"
   },
   "source": [
    "# Text Preprocessing\n",
    "\n",
    "**Preprocessing stages:**\n",
    "1. Tokenization\n",
    "2. Lemmatization\n",
    "3. Remove stopwords\n",
    "4. Cosine similarity with spacy"
   ]
  },
  {
   "cell_type": "code",
   "execution_count": 0,
   "metadata": {
    "colab": {},
    "colab_type": "code",
    "id": "GlPxg_ttFkZF"
   },
   "outputs": [],
   "source": [
    "nlp = spacy.load('en_core_web_sm')"
   ]
  },
  {
   "cell_type": "code",
   "execution_count": 0,
   "metadata": {
    "colab": {},
    "colab_type": "code",
    "id": "fu1-Cut2ZwHl"
   },
   "outputs": [],
   "source": [
    "def tokenize(text):\n",
    "    return nlp(text.lower())\n",
    "\n",
    "def lemmatization(token):\n",
    "    return token.lemma_\n",
    "\n",
    "def process(tokens):\n",
    "    return ' '.join([lemmatization(token) for token in tokens\n",
    "                    if not token.is_stop])\n",
    "\n",
    "def clean_sentence(text):\n",
    "    sentence = tokenize(text)\n",
    "    sentence = process(sentence)\n",
    "    return sentence\n",
    "\n",
    "def get_similarity(text_a, text_b):\n",
    "    base = nlp(clean_sentence(text_a))\n",
    "    compare = nlp(clean_sentence(text_b))\n",
    "    return float(base.similarity(compare))\n",
    "\n",
    "similarity_score = udf(lambda x, y: get_similarity(x, y), FloatType())"
   ]
  },
  {
   "cell_type": "code",
   "execution_count": 13,
   "metadata": {
    "colab": {
     "base_uri": "https://localhost:8080/",
     "height": 204
    },
    "colab_type": "code",
    "id": "4JNoLQ1Tc4YJ",
    "outputId": "d2b611d7-56f1-4994-ce07-aff0786fee97"
   },
   "outputs": [
    {
     "name": "stdout",
     "output_type": "stream",
     "text": [
      "+---+--------------------+--------------------+--------+--------+-------------+----------+\n",
      "|_c0|       description_x|       description_y|ticker_x|ticker_y|same_security|similarity|\n",
      "+---+--------------------+--------------------+--------+--------+-------------+----------+\n",
      "|  0|first trust dow j...|first trust dj in...|     FDN|     FDN|         true| 0.7705274|\n",
      "|  1|schwab intl large...|schwab strategic ...|    FNDF|    FNDF|         true| 0.8693827|\n",
      "|  2|vanguard small ca...|vanguard small-ca...|   VSMAX|   VSCIX|        false|0.90721846|\n",
      "|  3|duke energy corp ...|duke energy corp ...|     DUK|     DUK|         true| 0.9512736|\n",
      "|  4|    visa inc class a|           visa inc.|       V|       V|         true| 0.7334154|\n",
      "+---+--------------------+--------------------+--------+--------+-------------+----------+\n",
      "only showing top 5 rows\n",
      "\n"
     ]
    }
   ],
   "source": [
    "train_df = train_df.withColumn('similarity', similarity_score(train_df.description_x, train_df.description_y))\n",
    "train_df.show(5)"
   ]
  },
  {
   "cell_type": "markdown",
   "metadata": {
    "colab_type": "text",
    "id": "EELm1Hz-KM0J"
   },
   "source": [
    "# Matching\n",
    "**Notes:**\n",
    "1. Don't need to remove stopwords or stemming anymore since it was done before this.\n",
    "2. Do need to tokenize the text again\n"
   ]
  },
  {
   "cell_type": "code",
   "execution_count": 0,
   "metadata": {
    "colab": {},
    "colab_type": "code",
    "id": "FgrcFuD06wjZ"
   },
   "outputs": [],
   "source": [
    "cols = ['description_x', 'description_y']\n",
    "tags = ['x', 'y']\n",
    "process = []\n",
    "\n",
    "for col, tag in zip(cols, tags):\n",
    "    tokenizer = Tokenizer(inputCol=col, outputCol='token_%s'%tag)\n",
    "    hashing = HashingTF(inputCol='token_%s'%tag, outputCol='raw_%s'%tag)\n",
    "    idf = IDF(inputCol='raw_%s'%tag, outputCol='features_%s'%tag)\n",
    "    process.extend([tokenizer, hashing, idf])"
   ]
  },
  {
   "cell_type": "code",
   "execution_count": 0,
   "metadata": {
    "colab": {},
    "colab_type": "code",
    "id": "1NquuT-UVKDr"
   },
   "outputs": [],
   "source": [
    "pipeline = Pipeline(stages=process)\n",
    "train = pipeline.fit(train_df).transform(train_df).select('features_x', 'features_y', 'similarity','same_security')"
   ]
  },
  {
   "cell_type": "code",
   "execution_count": 16,
   "metadata": {
    "colab": {
     "base_uri": "https://localhost:8080/",
     "height": 459
    },
    "colab_type": "code",
    "id": "dDIY7v5mD54K",
    "outputId": "8b95d0f4-7df3-4421-bdfe-07a7badfdbb2"
   },
   "outputs": [
    {
     "name": "stdout",
     "output_type": "stream",
     "text": [
      "+--------------------+--------------------+----------+-------------+\n",
      "|          features_x|          features_y|similarity|same_security|\n",
      "+--------------------+--------------------+----------+-------------+\n",
      "|(262144,[31407,82...|(262144,[82111,13...| 0.7705274|         true|\n",
      "|(262144,[7488,331...|(262144,[7488,818...| 0.8693827|         true|\n",
      "|(262144,[199777,2...|(262144,[41785,20...|0.90721846|        false|\n",
      "|(262144,[29945,76...|(262144,[27466,29...| 0.9512736|         true|\n",
      "|(262144,[19862,51...|(262144,[51818,18...| 0.7334154|         true|\n",
      "|(262144,[29945,87...|(262144,[87927,11...|0.86081916|         true|\n",
      "|(262144,[60697,16...|(262144,[9786,654...| 0.5569421|         true|\n",
      "|(262144,[7488,422...|(262144,[7488,136...| 0.8870227|         true|\n",
      "|(262144,[21872,28...|(262144,[7488,218...| 0.7812148|         true|\n",
      "|(262144,[6615,244...|(262144,[24417,11...| 0.8243693|         true|\n",
      "|(262144,[19862,45...|(262144,[6615,697...| 0.7369617|         true|\n",
      "|(262144,[141607,1...|(262144,[141607,1...|  0.866594|         true|\n",
      "|(262144,[7488,422...|(262144,[42239,42...|0.86698264|         true|\n",
      "|(262144,[408,3318...|(262144,[408,8792...| 0.8692661|         true|\n",
      "|(262144,[21028,13...|(262144,[2858,675...|0.85706484|        false|\n",
      "|(262144,[36691,80...|(262144,[76218,11...| 0.9289792|         true|\n",
      "|(262144,[66046,15...|(262144,[66046,15...| 0.9526757|         true|\n",
      "|(262144,[34916,12...|(262144,[34916,23...|0.58312565|         true|\n",
      "|(262144,[92464,19...|(262144,[92464,10...|0.80542606|         true|\n",
      "|(262144,[21028,13...|(262144,[136243,1...| 0.9510111|        false|\n",
      "+--------------------+--------------------+----------+-------------+\n",
      "only showing top 20 rows\n",
      "\n"
     ]
    }
   ],
   "source": [
    "train.show()"
   ]
  },
  {
   "cell_type": "code",
   "execution_count": 17,
   "metadata": {
    "colab": {
     "base_uri": "https://localhost:8080/",
     "height": 459
    },
    "colab_type": "code",
    "id": "Iw7v-ExgPFfW",
    "outputId": "ddaa1a15-914f-4346-8a36-715e933b6f73"
   },
   "outputs": [
    {
     "name": "stdout",
     "output_type": "stream",
     "text": [
      "+--------------------+-------------+\n",
      "|            features|same_security|\n",
      "+--------------------+-------------+\n",
      "|(524288,[31407,82...|         true|\n",
      "|(524288,[7488,331...|         true|\n",
      "|(524288,[199777,2...|        false|\n",
      "|(524288,[29945,76...|         true|\n",
      "|(524288,[19862,51...|         true|\n",
      "|(524288,[29945,87...|         true|\n",
      "|(524288,[60697,16...|         true|\n",
      "|(524288,[7488,422...|         true|\n",
      "|(524288,[21872,28...|         true|\n",
      "|(524288,[6615,244...|         true|\n",
      "|(524288,[19862,45...|         true|\n",
      "|(524288,[141607,1...|         true|\n",
      "|(524288,[7488,422...|         true|\n",
      "|(524288,[408,3318...|         true|\n",
      "|(524288,[21028,13...|        false|\n",
      "|(524288,[36691,80...|         true|\n",
      "|(524288,[66046,15...|         true|\n",
      "|(524288,[34916,12...|         true|\n",
      "|(524288,[92464,19...|         true|\n",
      "|(524288,[21028,13...|        false|\n",
      "+--------------------+-------------+\n",
      "only showing top 20 rows\n",
      "\n"
     ]
    }
   ],
   "source": [
    "assembler = VectorAssembler(inputCols=['features_x', 'features_y',],\n",
    "                            outputCol='features')\n",
    "train_data = assembler.transform(train).select('features', 'same_security')\n",
    "train_data.show()"
   ]
  },
  {
   "cell_type": "code",
   "execution_count": 18,
   "metadata": {
    "colab": {
     "base_uri": "https://localhost:8080/",
     "height": 204
    },
    "colab_type": "code",
    "id": "Gg1wHoPmb2vh",
    "outputId": "bb766580-6d13-43b2-f8d2-3b75bfe818aa"
   },
   "outputs": [
    {
     "name": "stdout",
     "output_type": "stream",
     "text": [
      "+--------------------+-----+\n",
      "|            features|label|\n",
      "+--------------------+-----+\n",
      "|(524288,[31407,82...|    1|\n",
      "|(524288,[7488,331...|    1|\n",
      "|(524288,[199777,2...|    0|\n",
      "|(524288,[29945,76...|    1|\n",
      "|(524288,[19862,51...|    1|\n",
      "+--------------------+-----+\n",
      "only showing top 5 rows\n",
      "\n"
     ]
    }
   ],
   "source": [
    "def make_integer(input):\n",
    "    return int(input)\n",
    "\n",
    "make = udf(make_integer, IntegerType())\n",
    "\n",
    "train_data = train_data.withColumn('label', make(train_data.same_security)).select('features', 'label')\n",
    "train_data.show(5)"
   ]
  },
  {
   "cell_type": "markdown",
   "metadata": {
    "colab_type": "text",
    "id": "7Li4iZ_PQ2cl"
   },
   "source": [
    "# Training\n",
    "Training using **`logistic regression`** model"
   ]
  },
  {
   "cell_type": "code",
   "execution_count": 0,
   "metadata": {
    "colab": {},
    "colab_type": "code",
    "id": "BiEIR27OgMgS"
   },
   "outputs": [],
   "source": [
    "lr = LogisticRegression(featuresCol='features', labelCol='label', maxIter=20)\n",
    "lrModel = lr.fit(train_data)"
   ]
  },
  {
   "cell_type": "markdown",
   "metadata": {
    "colab_type": "text",
    "id": "gUKnNDAjTreA"
   },
   "source": [
    "# Predicting\n",
    "1. Preprocess and transform test data\n",
    "2. Make predictions"
   ]
  },
  {
   "cell_type": "code",
   "execution_count": 20,
   "metadata": {
    "colab": {
     "base_uri": "https://localhost:8080/",
     "height": 204
    },
    "colab_type": "code",
    "id": "1qqioLU4Q2cr",
    "outputId": "3f0a7e56-2d94-492c-ed21-18a42e7af739",
    "scrolled": true
   },
   "outputs": [
    {
     "name": "stdout",
     "output_type": "stream",
     "text": [
      "+-------+--------------------+--------------------+-------------+----------+\n",
      "|test_id|       description_x|       description_y|same_security|similarity|\n",
      "+-------+--------------------+--------------------+-------------+----------+\n",
      "|      0|        semtech corp| semtech corporation|         null|0.83373463|\n",
      "|      1|vanguard mid cap ...|vanguard midcap i...|         null|0.72750676|\n",
      "|      2|spdr gold trust g...|spdr gold trust s...|         null| 0.9827602|\n",
      "|      3|vanguard total bo...|vanguard total bo...|         null| 0.9672633|\n",
      "|      4|oakmark internati...|oakmark internati...|         null|0.78931284|\n",
      "+-------+--------------------+--------------------+-------------+----------+\n",
      "only showing top 5 rows\n",
      "\n"
     ]
    }
   ],
   "source": [
    "test_df = test_df.withColumn('similarity', similarity_score(test_df.description_x, test_df.description_y))\n",
    "test_df.show(5)"
   ]
  },
  {
   "cell_type": "markdown",
   "metadata": {
    "colab_type": "text",
    "id": "gUSK_2nEQ2cu"
   },
   "source": [
    "# Preprocess pipeline\n",
    "I reuse the same pipeline to transform test data"
   ]
  },
  {
   "cell_type": "code",
   "execution_count": 21,
   "metadata": {
    "colab": {
     "base_uri": "https://localhost:8080/",
     "height": 459
    },
    "colab_type": "code",
    "id": "RQSlOJETQ2cv",
    "outputId": "ad6c620a-db46-48b4-980d-6b3bf14f6330"
   },
   "outputs": [
    {
     "name": "stdout",
     "output_type": "stream",
     "text": [
      "+--------------------+--------------------+----------+\n",
      "|          features_x|          features_y|similarity|\n",
      "+--------------------+--------------------+----------+\n",
      "|(262144,[192827,2...|(262144,[147689,2...|0.83373463|\n",
      "|(262144,[154638,1...|(262144,[45531,97...|0.72750676|\n",
      "|(262144,[138702,1...|(262144,[138702,1...| 0.9827602|\n",
      "|(262144,[136243,2...|(262144,[136243,1...| 0.9672633|\n",
      "|(262144,[19862,24...|(262144,[24417,42...|0.78931284|\n",
      "|(262144,[11419,15...|(262144,[11419,15...| 0.8092509|\n",
      "|(262144,[21872,32...|(262144,[8450,614...| 0.8112162|\n",
      "|(262144,[136243,1...|(262144,[136243,1...| 0.9017771|\n",
      "|(262144,[17222,19...|(262144,[89521,10...| 0.8128526|\n",
      "|(262144,[107357,1...|(262144,[104487,1...|  0.770778|\n",
      "|(262144,[170698,1...|(262144,[45224,15...| 0.8364162|\n",
      "|(262144,[67203,15...|(262144,[67203,10...|0.83405143|\n",
      "|(262144,[29945,54...|(262144,[28698,29...| 0.7616934|\n",
      "|(262144,[7594,169...|(262144,[7594,844...|0.81957406|\n",
      "|(262144,[207303,2...|(262144,[41785,20...| 0.9503941|\n",
      "|(262144,[45224,16...|(262144,[80795,16...| 0.7110176|\n",
      "|(262144,[3778,748...|(262144,[3778,163...|0.76909626|\n",
      "|(262144,[154736,2...|(262144,[154736,2...| 0.8981071|\n",
      "|(262144,[33182,48...|(262144,[48525,87...|  0.377323|\n",
      "|(262144,[132847,2...|(262144,[96318,99...|0.91701126|\n",
      "+--------------------+--------------------+----------+\n",
      "only showing top 20 rows\n",
      "\n"
     ]
    }
   ],
   "source": [
    "pipeline2 = Pipeline(stages=process)\n",
    "test = pipeline.fit(test_df).transform(test_df).select('features_x', 'features_y', 'similarity')\n",
    "test.show()"
   ]
  },
  {
   "cell_type": "code",
   "execution_count": 22,
   "metadata": {
    "colab": {
     "base_uri": "https://localhost:8080/",
     "height": 459
    },
    "colab_type": "code",
    "id": "RVazp3DgQ2cy",
    "outputId": "6ba4fb51-2f0b-4418-9e8c-77fe20de151a"
   },
   "outputs": [
    {
     "name": "stdout",
     "output_type": "stream",
     "text": [
      "+--------------------+\n",
      "|            features|\n",
      "+--------------------+\n",
      "|(524288,[192827,2...|\n",
      "|(524288,[154638,1...|\n",
      "|(524288,[138702,1...|\n",
      "|(524288,[136243,2...|\n",
      "|(524288,[19862,24...|\n",
      "|(524288,[11419,15...|\n",
      "|(524288,[21872,32...|\n",
      "|(524288,[136243,1...|\n",
      "|(524288,[17222,19...|\n",
      "|(524288,[107357,1...|\n",
      "|(524288,[170698,1...|\n",
      "|(524288,[67203,15...|\n",
      "|(524288,[29945,54...|\n",
      "|(524288,[7594,169...|\n",
      "|(524288,[207303,2...|\n",
      "|(524288,[45224,16...|\n",
      "|(524288,[3778,748...|\n",
      "|(524288,[154736,2...|\n",
      "|(524288,[33182,48...|\n",
      "|(524288,[132847,2...|\n",
      "+--------------------+\n",
      "only showing top 20 rows\n",
      "\n"
     ]
    }
   ],
   "source": [
    "assembler = VectorAssembler(inputCols=['features_x', 'features_y',],\n",
    "                            outputCol='features')\n",
    "test_data = assembler.transform(test).select('features')\n",
    "test_data.show()"
   ]
  },
  {
   "cell_type": "markdown",
   "metadata": {
    "colab_type": "text",
    "id": "f92iKANNQ2c2"
   },
   "source": [
    "# Make Predictions\n",
    "Making predictions with the previous logistic regression model trained"
   ]
  },
  {
   "cell_type": "code",
   "execution_count": 0,
   "metadata": {
    "colab": {},
    "colab_type": "code",
    "id": "avftaNN_Q2c3"
   },
   "outputs": [],
   "source": [
    "predictions = lrModel.transform(test_data)"
   ]
  },
  {
   "cell_type": "code",
   "execution_count": 24,
   "metadata": {
    "colab": {
     "base_uri": "https://localhost:8080/",
     "height": 459
    },
    "colab_type": "code",
    "id": "kOxVoVaAQ2c5",
    "outputId": "2b965f34-b1df-4462-e995-70cb9d60ba20"
   },
   "outputs": [
    {
     "name": "stdout",
     "output_type": "stream",
     "text": [
      "+--------------------+--------------------+--------------------+----------+\n",
      "|            features|       rawPrediction|         probability|prediction|\n",
      "+--------------------+--------------------+--------------------+----------+\n",
      "|(524288,[192827,2...|[-12.203458591277...|[5.01306223843987...|       1.0|\n",
      "|(524288,[154638,1...|[-45.324194465176...|[2.06991469173215...|       1.0|\n",
      "|(524288,[138702,1...|[-20.918295507132...|[8.22810244083879...|       1.0|\n",
      "|(524288,[136243,2...|[3.90017225605763...|[0.98016304379523...|       0.0|\n",
      "|(524288,[19862,24...|[-62.203055682353...|[9.67288800935395...|       1.0|\n",
      "|(524288,[11419,15...|[-10.511654883421...|[2.72166374573788...|       1.0|\n",
      "|(524288,[21872,32...|[25.6193390363561...|[0.99999999999252...|       0.0|\n",
      "|(524288,[136243,1...|[9.92631883046867...|[0.99995113101912...|       0.0|\n",
      "|(524288,[17222,19...|[-29.984067818469...|[9.50790429247304...|       1.0|\n",
      "|(524288,[107357,1...|[-44.023648915265...|[7.59927573416826...|       1.0|\n",
      "|(524288,[170698,1...|[-29.691054059493...|[1.27449771175818...|       1.0|\n",
      "|(524288,[67203,15...|[-19.994121462186...|[2.07330587139280...|       1.0|\n",
      "|(524288,[29945,54...|[-26.342736560845...|[3.62656005264831...|       1.0|\n",
      "|(524288,[7594,169...|[-24.290487262738...|[2.82341955973575...|       1.0|\n",
      "|(524288,[207303,2...|[14.0987032997684...|[0.99999924662600...|       0.0|\n",
      "|(524288,[45224,16...|[-18.492370126580...|[9.30819971103033...|       1.0|\n",
      "|(524288,[3778,748...|[-47.171563570876...|[3.26324918651134...|       1.0|\n",
      "|(524288,[154736,2...|[-14.871292920400...|[3.47920000116893...|       1.0|\n",
      "|(524288,[33182,48...|[-18.774476547495...|[7.02018297442060...|       1.0|\n",
      "|(524288,[132847,2...|[-26.005726040660...|[5.07991777412258...|       1.0|\n",
      "+--------------------+--------------------+--------------------+----------+\n",
      "only showing top 20 rows\n",
      "\n"
     ]
    }
   ],
   "source": [
    "predictions.show()"
   ]
  },
  {
   "cell_type": "markdown",
   "metadata": {
    "colab_type": "text",
    "id": "5ILIJiIoUt5d"
   },
   "source": [
    "# SOME EXTRAS\n",
    "Trying out with BERT, not neccessary to go through these blocks"
   ]
  },
  {
   "cell_type": "code",
   "execution_count": 25,
   "metadata": {
    "colab": {
     "base_uri": "https://localhost:8080/",
     "height": 496
    },
    "colab_type": "code",
    "id": "coTkFd97Q2c_",
    "outputId": "75f3cc35-c827-460d-d257-778abbc7d86f"
   },
   "outputs": [
    {
     "data": {
      "text/plain": [
       "[name: \"/device:CPU:0\"\n",
       " device_type: \"CPU\"\n",
       " memory_limit: 268435456\n",
       " locality {\n",
       " }\n",
       " incarnation: 15601043602608970052, name: \"/device:XLA_CPU:0\"\n",
       " device_type: \"XLA_CPU\"\n",
       " memory_limit: 17179869184\n",
       " locality {\n",
       " }\n",
       " incarnation: 1288076145605666578\n",
       " physical_device_desc: \"device: XLA_CPU device\", name: \"/device:XLA_GPU:0\"\n",
       " device_type: \"XLA_GPU\"\n",
       " memory_limit: 17179869184\n",
       " locality {\n",
       " }\n",
       " incarnation: 7329367665055527103\n",
       " physical_device_desc: \"device: XLA_GPU device\", name: \"/device:GPU:0\"\n",
       " device_type: \"GPU\"\n",
       " memory_limit: 14254804173\n",
       " locality {\n",
       "   bus_id: 1\n",
       "   links {\n",
       "   }\n",
       " }\n",
       " incarnation: 16915336731230012025\n",
       " physical_device_desc: \"device: 0, name: Tesla T4, pci bus id: 0000:00:04.0, compute capability: 7.5\"]"
      ]
     },
     "execution_count": 25,
     "metadata": {
      "tags": []
     },
     "output_type": "execute_result"
    }
   ],
   "source": [
    "from tensorflow.python.client import device_lib\n",
    "\n",
    "device_lib.list_local_devices()"
   ]
  },
  {
   "cell_type": "code",
   "execution_count": 26,
   "metadata": {
    "colab": {
     "base_uri": "https://localhost:8080/",
     "height": 71
    },
    "colab_type": "code",
    "id": "U_dLD_uGWaGQ",
    "outputId": "5d3f89ea-f6ba-48a4-b169-f7b699fddb54"
   },
   "outputs": [
    {
     "name": "stdout",
     "output_type": "stream",
     "text": [
      "Requirement already satisfied: bert-tensorflow in /root/.local/lib/python3.6/site-packages (1.0.1)\n",
      "Requirement already satisfied: six in /usr/local/lib/python3.6/dist-packages (from bert-tensorflow) (1.12.0)\n"
     ]
    }
   ],
   "source": [
    "!python3 -m pip install --user bert-tensorflow"
   ]
  },
  {
   "cell_type": "code",
   "execution_count": 2,
   "metadata": {},
   "outputs": [],
   "source": [
    "import tensorflow as tf\n",
    "import tensorflow_hub as hub\n",
    "\n",
    "import bert\n",
    "from bert.run_classifier_with_tfhub import create_tokenizer_from_hub_module\n",
    "from bert import optimization, tokenization, modeling\n",
    "from bert.run_classifier import InputExample"
   ]
  },
  {
   "cell_type": "code",
   "execution_count": 0,
   "metadata": {
    "colab": {},
    "colab_type": "code",
    "id": "L1r3Ci426Uii"
   },
   "outputs": [],
   "source": [
    "BERT_MODEL = 'uncased_L-12_H-768_A-12'\n",
    "BERT_MODEL_HUB = 'https://tfhub.dev/google/bert_' + BERT_MODEL + '/1'\n",
    "\n",
    "!ls ./model/"
   ]
  },
  {
   "cell_type": "code",
   "execution_count": 29,
   "metadata": {
    "colab": {
     "base_uri": "https://localhost:8080/",
     "height": 343
    },
    "colab_type": "code",
    "id": "KbnNXI83KpvQ",
    "outputId": "1726f90e-31e2-43cd-ca67-ebe876f8fe76"
   },
   "outputs": [
    {
     "name": "stdout",
     "output_type": "stream",
     "text": [
      "--2019-07-17 14:15:18--  https://storage.googleapis.com/bert_models/2018_10_18/uncased_L-12_H-768_A-12.zip\n",
      "Resolving storage.googleapis.com (storage.googleapis.com)... 173.194.79.128, 2a00:1450:4013:c08::80\n",
      "Connecting to storage.googleapis.com (storage.googleapis.com)|173.194.79.128|:443... connected.\n",
      "HTTP request sent, awaiting response... 200 OK\n",
      "Length: 407727028 (389M) [application/zip]\n",
      "Saving to: ‘./model/uncased_L-12_H-768_A-12.zip’\n",
      "\n",
      "./model/uncased_L-1 100%[===================>] 388.84M  64.8MB/s    in 6.0s    \n",
      "\n",
      "2019-07-17 14:15:24 (64.4 MB/s) - ‘./model/uncased_L-12_H-768_A-12.zip’ saved [407727028/407727028]\n",
      "\n",
      "Archive:  ./model/uncased_L-12_H-768_A-12.zip\n",
      "   creating: uncased_L-12_H-768_A-12/\n",
      "  inflating: uncased_L-12_H-768_A-12/bert_model.ckpt.meta  \n",
      "  inflating: uncased_L-12_H-768_A-12/bert_model.ckpt.data-00000-of-00001  \n",
      "  inflating: uncased_L-12_H-768_A-12/vocab.txt  \n",
      "  inflating: uncased_L-12_H-768_A-12/bert_model.ckpt.index  \n",
      "  inflating: uncased_L-12_H-768_A-12/bert_config.json  \n"
     ]
    }
   ],
   "source": [
    "!wget https://storage.googleapis.com/bert_models/2018_10_18/uncased_L-12_H-768_A-12.zip -O ./model/uncased_L-12_H-768_A-12.zip\n",
    "!unzip ./model/uncased_L-12_H-768_A-12.zip\n",
    "\n",
    "BERT_VOCAB= './uncased_L-12_H-768_A-12/vocab.txt'\n",
    "BERT_INIT_CHKPNT = './uncased_L-12_H-768_A-12/bert_model.ckpt'\n",
    "BERT_CONFIG = './uncased_L-12_H-768_A-12/bert_config.json'\n",
    "OUTPUT_DIR = './output'"
   ]
  },
  {
   "cell_type": "code",
   "execution_count": 30,
   "metadata": {
    "colab": {
     "base_uri": "https://localhost:8080/",
     "height": 71
    },
    "colab_type": "code",
    "id": "0jRfe16s9oRN",
    "outputId": "92452ba3-1a87-4528-fa14-6fdc73004475"
   },
   "outputs": [
    {
     "name": "stderr",
     "output_type": "stream",
     "text": [
      "W0717 14:15:33.977893 140640890361728 deprecation_wrapper.py:119] From /root/.local/lib/python3.6/site-packages/bert/tokenization.py:125: The name tf.gfile.GFile is deprecated. Please use tf.io.gfile.GFile instead.\n",
      "\n"
     ]
    }
   ],
   "source": [
    "tokenization.validate_case_matches_checkpoint(True, BERT_INIT_CHKPNT)\n",
    "tokenizer = tokenization.FullTokenizer(\n",
    "      vocab_file=BERT_VOCAB, do_lower_case=True)"
   ]
  },
  {
   "cell_type": "code",
   "execution_count": 0,
   "metadata": {
    "colab": {},
    "colab_type": "code",
    "id": "OeIfMxc2JdwF"
   },
   "outputs": [],
   "source": [
    "train_examples = [InputExample(guid=None, text_a=row['description_x'], text_b=row['description_y'], label=row['same_security'])\n",
    "                  for row in train_df.select(['description_x', 'description_y', 'same_security']).collect()]\n",
    "\n",
    "test_examples = [InputExample(guid=None, text_a=row['description_x'], text_b=row['description_y'], label=row['same_security'])\n",
    "                  for row in test_df.select(['description_x', 'description_y', 'same_security']).collect()]"
   ]
  },
  {
   "cell_type": "code",
   "execution_count": 0,
   "metadata": {
    "colab": {},
    "colab_type": "code",
    "id": "TB56ZTJQRSXf"
   },
   "outputs": [],
   "source": [
    "BATCH_SIZE = 32\n",
    "LEARNING_RATE = 2e-5\n",
    "EPOCHS = 3\n",
    "MAX_SEQ_LENGTH = 30\n",
    "\n",
    "WARMUP_PROPORTION = 0.1\n",
    "# Model configs\n",
    "SAVE_CHECKPOINT_STEPS = 2000\n",
    "SAVE_SUMMARY_STEPS = 1000\n",
    "\n",
    "label_list = [False, True]"
   ]
  },
  {
   "cell_type": "code",
   "execution_count": 0,
   "metadata": {
    "colab": {},
    "colab_type": "code",
    "id": "l55-MSh5QxDQ"
   },
   "outputs": [],
   "source": [
    "train_features = bert.run_classifier.convert_examples_to_features(train_examples, \n",
    "                                                                  label_list,\n",
    "                                                                  MAX_SEQ_LENGTH, \n",
    "                                                                  tokenizer)\n",
    "\n",
    "test_features = bert.run_classifier.convert_examples_to_features(test_examples, \n",
    "                                                                  [None],\n",
    "                                                                  MAX_SEQ_LENGTH, \n",
    "                                                                  tokenizer)"
   ]
  },
  {
   "cell_type": "code",
   "execution_count": 0,
   "metadata": {
    "colab": {},
    "colab_type": "code",
    "id": "TYwuWrzLNp67"
   },
   "outputs": [],
   "source": [
    "def create_model(bert_config, is_training, input_ids, input_mask, segment_ids,\n",
    "                 labels, num_labels, use_one_hot_embeddings=True):\n",
    "    \"\"\"Creates a classification model.\"\"\"\n",
    "    model = modeling.BertModel(\n",
    "      config=bert_config,\n",
    "      is_training=is_training,\n",
    "      input_ids=input_ids,\n",
    "      input_mask=input_mask,\n",
    "      token_type_ids=segment_ids,\n",
    "      use_one_hot_embeddings=True)\n",
    "\n",
    "    output_layer = model.get_pooled_output()\n",
    "    hidden_size = output_layer.shape[-1].value\n",
    "    print('Hidden size: ',hidden_size)\n",
    "    \n",
    "    output_weights = tf.get_variable(\n",
    "      \"output_weights\", [num_labels, hidden_size],\n",
    "      initializer=tf.truncated_normal_initializer(stddev=0.02))\n",
    "\n",
    "    output_bias = tf.get_variable(\n",
    "      \"output_bias\", [num_labels], initializer=tf.zeros_initializer())\n",
    "    \n",
    "    with tf.variable_scope('loss'):\n",
    "        # fine-tuning last layer\n",
    "        logits = tf.matmul(output_layer, output_weights, transpose_b=True)\n",
    "        logits = tf.nn.bias_add(logits, output_bias)\n",
    "        log_probs = tf.nn.log_softmax(logits, axis=-1)\n",
    "        \n",
    "        # Convert labels into one-hot encoding\n",
    "        one_hot_labels = tf.one_hot(labels, depth=num_labels, dtype=tf.float32)\n",
    "        \n",
    "        predicted = tf.squeeze(tf.argmax(log_probs, axis=-1, output_type=tf.int32))\n",
    "        \n",
    "        if is_training:\n",
    "            per_example_loss = -tf.reduce_sum(one_hot_labels * log_probs, axis=-1)\n",
    "            loss = tf.reduce_mean(per_example_loss)\n",
    "            return loss, predicted, log_probs\n",
    "            \n",
    "            \n",
    "        elif not is_training:\n",
    "            predicted = tf.squeeze(tf.argmax(log_probs, axis=-1, output_type=tf.int32))\n",
    "            return predicted, log_probs\n",
    "        \n",
    "def model_fn_builder(bert_config, init_checkpoint, num_labels, learning_rate,\n",
    "                     num_train_steps, num_warmup_steps, use_tpu,\n",
    "                     use_one_hot_embeddings):\n",
    "    # Wraps model_fn as Estimator\n",
    "    def model_fn(features, labels, mode, params):\n",
    "        tf.logging.info(\"*** Features ***\")\n",
    "        for name in sorted(features.keys()):\n",
    "            tf.logging.info(\"  name = %s, shape = %s\" % (name, features[name].shape))\n",
    "            \n",
    "        input_ids = features['input_ids']\n",
    "        input_mask = features[\"input_mask\"]\n",
    "        segment_ids = features[\"segment_ids\"]\n",
    "        label_ids = features[\"label_ids\"]\n",
    "        \n",
    "        is_training = (mode == tf.estimator.ModeKeys.TRAIN or \n",
    "                       mode == tf.estimator.ModeKeys.EVAL)\n",
    "            \n",
    "        # Training or evaluating\n",
    "        if is_training:\n",
    "            (total_loss, predicted_labels, log_probs) = create_model(bert_config, is_training,\n",
    "                                                              input_ids, input_mask,\n",
    "                                                              segment_ids, label_ids,\n",
    "                                                              num_labels)\n",
    "            # Calculate evaluation metrics. \n",
    "            def metric_fn(label_ids, predicted_labels):\n",
    "                accuracy = tf.metrics.accuracy(label_ids, predicted_labels)\n",
    "                f1_score = tf.contrib.metrics.f1_score(\n",
    "                    label_ids,\n",
    "                    predicted_labels)\n",
    "                auc = tf.metrics.auc(\n",
    "                    label_ids,\n",
    "                    predicted_labels)\n",
    "                recall = tf.metrics.recall(\n",
    "                    label_ids,\n",
    "                    predicted_labels)\n",
    "                precision = tf.metrics.precision(\n",
    "                    label_ids,\n",
    "                    predicted_labels) \n",
    "                true_pos = tf.metrics.true_positives(\n",
    "                    label_ids,\n",
    "                    predicted_labels)\n",
    "                true_neg = tf.metrics.true_negatives(\n",
    "                    label_ids,\n",
    "                    predicted_labels)   \n",
    "                false_pos = tf.metrics.false_positives(\n",
    "                    label_ids,\n",
    "                    predicted_labels)  \n",
    "                false_neg = tf.metrics.false_negatives(\n",
    "                    label_ids,\n",
    "                    predicted_labels)\n",
    "                return {\n",
    "                    \"eval_accuracy\": accuracy,\n",
    "                    \"f1_score\": f1_score,\n",
    "                    \"auc\": auc,\n",
    "                    \"precision\": precision,\n",
    "                    \"recall\": recall,\n",
    "                    \"true_positives\": true_pos,\n",
    "                    \"true_negatives\": true_neg,\n",
    "                    \"false_positives\": false_pos,\n",
    "                    \"false_negatives\": false_neg\n",
    "                }\n",
    "            \n",
    "            optimizer = bert.optimization.create_optimizer(total_loss, learning_rate,\n",
    "                                                          num_train_steps, num_warmup_steps,\n",
    "                                                          use_tpu=False)\n",
    "            \n",
    "            tvars = tf.trainable_variables()\n",
    "            initialized_variable_names = {}\n",
    "            scaffold_fn = None\n",
    "            if init_checkpoint:\n",
    "                (assignment_map, initialized_variable_names\n",
    "                ) = modeling.get_assignment_map_from_checkpoint(tvars, init_checkpoint)\n",
    "                \n",
    "                tf.train.init_from_checkpoint(init_checkpoint, assignment_map)\n",
    "                \n",
    "            tf.logging.info(\"**** Trainable Variables ****\")\n",
    "            for var in tvars:\n",
    "                init_string = ''\n",
    "                if var.name in initialized_variable_names:\n",
    "                    init_string = ', *INIT_FROM_CKPT*'\n",
    "                tf.logging.info(\"  name = %s, shape = %s%s\", var.name, var.shape,\n",
    "                      init_string)\n",
    "            \n",
    "            if mode == tf.estimator.ModeKeys.TRAIN:\n",
    "                output_spec = tf.estimator.EstimatorSpec(\n",
    "                                mode=mode,\n",
    "                                loss=total_loss,\n",
    "                                train_op=optimizer)\n",
    "                \n",
    "            elif mode == tf.estimator.ModeKeys.EVAL:\n",
    "                eval_metrics = metric_fn(label_ids, predicted_labels)\n",
    "                output_spec = tf.estimator.EstimatorSpec(\n",
    "                                mode=mode,\n",
    "                                loss=total_loss,\n",
    "                                eval_metric_ops=eval_metrics)\n",
    "                \n",
    "        # predicting\n",
    "        elif not is_training:\n",
    "            (predicted_labels, log_probs) = create_model(bert_config, is_training,\n",
    "                                                          input_ids, input_mask,\n",
    "                                                          segment_ids, label_ids,\n",
    "                                                          num_labels)\n",
    "            output_spec = tf.estimator.EstimatorSpec(\n",
    "                                mode=mode,\n",
    "                                predictions={\n",
    "                                    'probabilities': log_probs,\n",
    "                                    'labels': predicted_labels\n",
    "                                })\n",
    "    \n",
    "        print(output_spec)\n",
    "        return output_spec\n",
    "\n",
    "    return model_fn"
   ]
  },
  {
   "cell_type": "code",
   "execution_count": 42,
   "metadata": {
    "colab": {
     "base_uri": "https://localhost:8080/",
     "height": 272
    },
    "colab_type": "code",
    "id": "-q7Y938YN12n",
    "outputId": "0e58f9d1-5b33-46c0-a83f-a95a3c4b1fc7"
   },
   "outputs": [
    {
     "name": "stdout",
     "output_type": "stream",
     "text": [
      "***** Running training *****\n",
      "  Num of training features = 2142\n",
      "  Batch size = 32\n",
      "  Num steps = 200\n"
     ]
    },
    {
     "data": {
      "text/plain": [
       "{'attention_probs_dropout_prob': 0.1,\n",
       " 'hidden_act': 'gelu',\n",
       " 'hidden_dropout_prob': 0.1,\n",
       " 'hidden_size': 768,\n",
       " 'initializer_range': 0.02,\n",
       " 'intermediate_size': 3072,\n",
       " 'max_position_embeddings': 512,\n",
       " 'num_attention_heads': 12,\n",
       " 'num_hidden_layers': 12,\n",
       " 'type_vocab_size': 2,\n",
       " 'vocab_size': 30522}"
      ]
     },
     "execution_count": 42,
     "metadata": {
      "tags": []
     },
     "output_type": "execute_result"
    }
   ],
   "source": [
    "num_train_steps = int(len(train_features)/ BATCH_SIZE * EPOCHS)\n",
    "num_warmup_steps = int(num_train_steps * WARMUP_PROPORTION)\n",
    "\n",
    "print(\"***** Running training *****\")\n",
    "print(\"  Num of training features = %d\" % len(train_features))\n",
    "print(\"  Batch size = %d\" % BATCH_SIZE)\n",
    "print(\"  Num steps = %d\"% num_train_steps)\n",
    "\n",
    "run_config = tf.estimator.RunConfig(\n",
    "    model_dir=OUTPUT_DIR,\n",
    "    save_summary_steps=SAVE_SUMMARY_STEPS,\n",
    "    save_checkpoints_steps=SAVE_CHECKPOINT_STEPS\n",
    ")\n",
    "\n",
    "bert_config = modeling.BertConfig.from_json_file(BERT_CONFIG)\n",
    "bert_config.__dict__"
   ]
  },
  {
   "cell_type": "code",
   "execution_count": 0,
   "metadata": {
    "colab": {},
    "colab_type": "code",
    "id": "Kw6OsBw3NtQr"
   },
   "outputs": [],
   "source": [
    "model_fn = model_fn_builder(bert_config=bert_config,\n",
    "                            num_labels=len(label_list),\n",
    "                            init_checkpoint=BERT_INIT_CHKPNT,\n",
    "                            learning_rate=LEARNING_RATE,\n",
    "                            num_train_steps=num_train_steps,\n",
    "                            num_warmup_steps=num_warmup_steps,\n",
    "                            use_tpu=False,\n",
    "                            use_one_hot_embeddings=True\n",
    "                           )\n",
    "\n",
    "tfestimator = tf.estimator.Estimator(\n",
    "    model_fn=model_fn,\n",
    "    config=run_config,\n",
    "    params={\"batch_size\": BATCH_SIZE}\n",
    ")"
   ]
  },
  {
   "cell_type": "code",
   "execution_count": 0,
   "metadata": {
    "colab": {},
    "colab_type": "code",
    "id": "cHYsNh6Xe8dC"
   },
   "outputs": [],
   "source": [
    "train_input_fn = bert.run_classifier.input_fn_builder(\n",
    "    features=train_features,\n",
    "    seq_length=MAX_SEQ_LENGTH,\n",
    "    is_training=True,\n",
    "    drop_remainder=False\n",
    ")"
   ]
  },
  {
   "cell_type": "code",
   "execution_count": 47,
   "metadata": {
    "colab": {
     "base_uri": "https://localhost:8080/",
     "height": 700
    },
    "colab_type": "code",
    "id": "oyHIu2ugOM2u",
    "outputId": "5e9dc7cc-649c-44e9-ba69-b25f414b95ad"
   },
   "outputs": [
    {
     "name": "stderr",
     "output_type": "stream",
     "text": [
      "W0717 14:28:00.158903 140640890361728 deprecation.py:323] From /usr/local/lib/python3.6/dist-packages/tensorflow/python/training/training_util.py:236: Variable.initialized_value (from tensorflow.python.ops.variables) is deprecated and will be removed in a future version.\n",
      "Instructions for updating:\n",
      "Use Variable.read_value. Variables in 2.X are initialized automatically both in eager and graph (inside tf.defun) contexts.\n"
     ]
    },
    {
     "name": "stdout",
     "output_type": "stream",
     "text": [
      "Begin training!\n"
     ]
    },
    {
     "name": "stderr",
     "output_type": "stream",
     "text": [
      "W0717 14:28:00.498455 140640890361728 deprecation_wrapper.py:119] From /root/.local/lib/python3.6/site-packages/bert/modeling.py:171: The name tf.variable_scope is deprecated. Please use tf.compat.v1.variable_scope instead.\n",
      "\n",
      "W0717 14:28:00.501839 140640890361728 deprecation_wrapper.py:119] From /root/.local/lib/python3.6/site-packages/bert/modeling.py:409: The name tf.get_variable is deprecated. Please use tf.compat.v1.get_variable instead.\n",
      "\n",
      "W0717 14:28:00.546185 140640890361728 deprecation_wrapper.py:119] From /root/.local/lib/python3.6/site-packages/bert/modeling.py:490: The name tf.assert_less_equal is deprecated. Please use tf.compat.v1.assert_less_equal instead.\n",
      "\n",
      "W0717 14:28:01.881896 140640890361728 lazy_loader.py:50] \n",
      "The TensorFlow contrib module will not be included in TensorFlow 2.0.\n",
      "For more information, please see:\n",
      "  * https://github.com/tensorflow/community/blob/master/rfcs/20180907-contrib-sunset.md\n",
      "  * https://github.com/tensorflow/addons\n",
      "  * https://github.com/tensorflow/io (for I/O related ops)\n",
      "If you depend on functionality not listed there, please file an issue.\n",
      "\n",
      "W0717 14:28:01.908708 140640890361728 deprecation.py:506] From /root/.local/lib/python3.6/site-packages/bert/modeling.py:358: calling dropout (from tensorflow.python.ops.nn_ops) with keep_prob is deprecated and will be removed in a future version.\n",
      "Instructions for updating:\n",
      "Please use `rate` instead of `keep_prob`. Rate should be set to `rate = 1 - keep_prob`.\n",
      "W0717 14:28:01.950720 140640890361728 deprecation.py:323] From /root/.local/lib/python3.6/site-packages/bert/modeling.py:671: dense (from tensorflow.python.layers.core) is deprecated and will be removed in a future version.\n",
      "Instructions for updating:\n",
      "Use keras.layers.dense instead.\n",
      "W0717 14:28:05.117953 140640890361728 deprecation_wrapper.py:119] From /root/.local/lib/python3.6/site-packages/bert/optimization.py:27: The name tf.train.get_or_create_global_step is deprecated. Please use tf.compat.v1.train.get_or_create_global_step instead.\n",
      "\n",
      "W0717 14:28:05.122068 140640890361728 deprecation_wrapper.py:119] From /root/.local/lib/python3.6/site-packages/bert/optimization.py:32: The name tf.train.polynomial_decay is deprecated. Please use tf.compat.v1.train.polynomial_decay instead.\n",
      "\n",
      "W0717 14:28:05.131072 140640890361728 deprecation.py:323] From /usr/local/lib/python3.6/dist-packages/tensorflow/python/keras/optimizer_v2/learning_rate_schedule.py:409: div (from tensorflow.python.ops.math_ops) is deprecated and will be removed in a future version.\n",
      "Instructions for updating:\n",
      "Deprecated in favor of operator or tf.math.divide.\n",
      "W0717 14:28:05.146357 140640890361728 deprecation_wrapper.py:119] From /root/.local/lib/python3.6/site-packages/bert/optimization.py:70: The name tf.trainable_variables is deprecated. Please use tf.compat.v1.trainable_variables instead.\n",
      "\n"
     ]
    },
    {
     "name": "stdout",
     "output_type": "stream",
     "text": [
      "Hidden size:  768\n"
     ]
    },
    {
     "name": "stderr",
     "output_type": "stream",
     "text": [
      "W0717 14:28:05.363908 140640890361728 deprecation.py:323] From /usr/local/lib/python3.6/dist-packages/tensorflow/python/ops/math_grad.py:1205: add_dispatch_support.<locals>.wrapper (from tensorflow.python.ops.array_ops) is deprecated and will be removed in a future version.\n",
      "Instructions for updating:\n",
      "Use tf.where in 2.0, which has the same broadcast rule as np.where\n"
     ]
    },
    {
     "name": "stdout",
     "output_type": "stream",
     "text": [
      "EstimatorSpec(mode='train', predictions={}, loss=<tf.Tensor 'loss/Mean:0' shape=() dtype=float32>, train_op=<tf.Operation 'group_deps_1' type=NoOp>, eval_metric_ops={}, export_outputs=None, training_chief_hooks=(), training_hooks=(), scaffold=<tensorflow.python.training.monitored_session.Scaffold object at 0x7fe8344db518>, evaluation_hooks=(), prediction_hooks=())\n",
      "Training took time  0:02:15.348124\n"
     ]
    }
   ],
   "source": [
    "print('Begin training!')\n",
    "current_time = datetime.now()\n",
    "tfestimator.train(input_fn=train_input_fn, max_steps=num_train_steps)\n",
    "print('Training took time ', datetime.now() - current_time)"
   ]
  },
  {
   "cell_type": "code",
   "execution_count": 50,
   "metadata": {
    "colab": {
     "base_uri": "https://localhost:8080/",
     "height": 71
    },
    "colab_type": "code",
    "id": "2Mw3hl6mmf4L",
    "outputId": "f77a1b0c-1b90-43d0-cf29-1f65888cecb8"
   },
   "outputs": [
    {
     "name": "stdout",
     "output_type": "stream",
     "text": [
      "Hidden size:  768\n",
      "EstimatorSpec(mode='infer', predictions={'probabilities': <tf.Tensor 'loss/LogSoftmax:0' shape=(?, 2) dtype=float32>, 'labels': <tf.Tensor 'loss/Squeeze_1:0' shape=<unknown> dtype=int32>}, loss=None, train_op=None, eval_metric_ops={}, export_outputs={'serving_default': <tensorflow.python.saved_model.model_utils.export_output.PredictOutput object at 0x7fe8823bf8d0>}, training_chief_hooks=(), training_hooks=(), scaffold=<tensorflow.python.training.monitored_session.Scaffold object at 0x7fe7da97ffd0>, evaluation_hooks=(), prediction_hooks=())\n"
     ]
    }
   ],
   "source": [
    "test_input_fn = bert.run_classifier.input_fn_builder(\n",
    "    features=test_features,\n",
    "    seq_length=MAX_SEQ_LENGTH,\n",
    "    is_training=False,\n",
    "    drop_remainder=False)\n",
    "\n",
    "predictions = list(tfestimator.predict(test_input_fn))"
   ]
  },
  {
   "cell_type": "code",
   "execution_count": 56,
   "metadata": {
    "colab": {
     "base_uri": "https://localhost:8080/",
     "height": 1000
    },
    "colab_type": "code",
    "id": "t7atDlGPPbvQ",
    "outputId": "f2a3bdee-2e7d-4ffd-c3c0-402333126f5e"
   },
   "outputs": [
    {
     "name": "stdout",
     "output_type": "stream",
     "text": [
      "Text_a: semtech corp | Text_b: semtech corporation | Label: True\n",
      "Text_a: vanguard mid cap index | Text_b: vanguard midcap index - a | Label: True\n",
      "Text_a: spdr gold trust gold shares | Text_b: spdr gold trust spdr gold shares | Label: True\n",
      "Text_a: vanguard total bond index adm | Text_b: vanguard total bond market index | Label: False\n",
      "Text_a: oakmark international fund class i | Text_b: oakmark international cl i | Label: True\n",
      "Text_a: pfizer inc div: 1.200 | Text_b: pfizer inc com | Label: True\n",
      "Text_a: spartan global ex us index fid adv cl | Text_b: sptn glb xus idx adv | Label: False\n",
      "Text_a: vanguard total bond market idx-adm | Text_b: vanguard total bond market index fund investor shares | Label: False\n",
      "Text_a: banco latinoamericano de exportacio class e com stk npv | Text_b: banco latinoamericano come-e | Label: True\n",
      "Text_a: baidu inc fadr 1 adr reps 0.1 ord shs | Text_b: baidu inc spons ads repr 0.10 ord cls a us0.00005 | Label: True\n",
      "Text_a: whole foods market | Text_b: whole foods markets inc div: 0.540 | Label: True\n",
      "Text_a: walgreens boots alliance inc com | Text_b: walgreens boots alli | Label: True\n",
      "Text_a: diageo plc new gb spon adr | Text_b: diageo p l c spon adr new | Label: True\n",
      "Text_a: guggenheim bulletshares 2016 | Text_b: guggenheim bulletshares 2016 high yield | Label: True\n",
      "Text_a: vanguard small-cap index adm | Text_b: vanguard small-cap index fund inst | Label: False\n",
      "Text_a: emerging markets | Text_b: vanguard ftse emerging marke | Label: True\n",
      "Text_a: spdr s&p 500 etf iv | Text_b: s&p 500 index spdr | Label: True\n",
      "Text_a: tegna inc com | Text_b: tegna inc | Label: True\n",
      "Text_a: deere & company | Text_b: deere co | Label: True\n",
      "Text_a: vanguard mid-cap index | Text_b: vanguard mid-cap index fund institutional plus shares | Label: True\n",
      "Text_a: jpmorgan chase & co div: 1.760 | Text_b: jpmorgan chase & co | Label: True\n",
      "Text_a: american funds europacific growth fund - r6 | Text_b: af europac growth r6 | Label: True\n",
      "Text_a: vanguard total bond market idx-adm | Text_b: vang tot bd mk is pl | Label: False\n",
      "Text_a: unitedhealth gp inc div: 2.000 | Text_b: unitedhealth group incorporated | Label: True\n",
      "Text_a: american intl group inc warrant 01/19/2021 | Text_b: american intl gro 21 wtswarrants exp 01/19/21 | Label: True\n",
      "Text_a: fifth street finance corp com | Text_b: fifth street financial corp com | Label: True\n",
      "Text_a: ishares jpm embi global core | Text_b: ishares jpm usd emrg mkt bnd etf | Label: True\n",
      "Text_a: metwest tot rtn bd m | Text_b: metropolitan west tot ret bond | Label: False\n",
      "Text_a: exelixis inc com | Text_b: exelixis inc | Label: True\n",
      "Text_a: glenmede large cap gwth | Text_b: glenmede large cap growth | Label: True\n",
      "Text_a: af europac growth r6 | Text_b: american funds europacific growth r6 | Label: True\n",
      "Text_a: dreamworks animation skg cl a | Text_b: dreamworks animation skg inc cl a | Label: True\n",
      "Text_a: dfa us small cap value port instl | Text_b: dfa u s small cap value cl i | Label: True\n",
      "Text_a: vanguard ltd-trm t/e adm | Text_b: vanguard limited-term tax-exempt fund | Label: False\n",
      "Text_a: ishares trust msci united kingdom etf | Text_b: ishares msci u k etf shs | Label: True\n",
      "Text_a: pimco total return cl a | Text_b: pimco total return fund adm | Label: False\n",
      "Text_a: amg yacktman fund service class | Text_b: amg yacktman service | Label: True\n",
      "Text_a: vanguard intermediate-term treasury fund admiral shares | Text_b: vang intm treas adm | Label: False\n",
      "Text_a: pimco incm cl d | Text_b: pimco fds income instl | Label: False\n",
      "Text_a: vanguard growth index fund investor shares | Text_b: vang growth idx adm | Label: False\n",
      "Text_a: vanguard mid cap index | Text_b: vanguard mid-cap index fund admiral shares | Label: True\n",
      "Text_a: vanguard value index fund institutional shares | Text_b: vanguard value index inv | Label: False\n",
      "Text_a: vanguard target retirement 2060 fund | Text_b: vanguard tgt rtrmnt 2060 | Label: True\n",
      "Text_a: netflix inc | Text_b: netflix inc. | Label: True\n",
      "Text_a: cisco sys inc com | Text_b: cisco sys inc | Label: True\n",
      "Text_a: pimco income fund cl p | Text_b: pimco income fd i | Label: False\n",
      "Text_a: united parcel service-cl b | Text_b: united parcel svc inc cl b | Label: True\n",
      "Text_a: michael kors holdings ltd com npv | Text_b: michael kors hldgs ltd | Label: True\n",
      "Text_a: alaska air group inc com | Text_b: alaska air group inc | Label: True\n",
      "Text_a: vanguard total bond market index adm | Text_b: vanguard ttl bnd mrk indx inst | Label: False\n",
      "Text_a: vanguard intermediate-term investment-grade fund admiral shares | Text_b: vanguard intermediate term inv gr fd inv cl | Label: False\n",
      "Text_a: oppenhmr develpng mkts y | Text_b: oppenheimer developing markets cl y | Label: True\n",
      "Text_a: texas instrs incorporated | Text_b: texas instruments inc | Label: True\n",
      "Text_a: sptn intl index fai | Text_b: spartan intl index fid adv class | Label: False\n",
      "Text_a: heartland pmt sys inc com | Text_b: heartland paymnt sys | Label: True\n",
      "Text_a: vanguard total bond market index fund institutional shares | Text_b: vanguard total bond market index | Label: False\n",
      "Text_a: ariel fund inv | Text_b: ariel fund | Label: True\n",
      "Text_a: flir sys inc | Text_b: flir systems inc | Label: True\n",
      "Text_a: pimco income fund cl d | Text_b: pimco income instl | Label: False\n",
      "Text_a: vanguard shortterm investgrade adm | Text_b: vanguard shrt trm invmnt grd-inv | Label: False\n",
      "Text_a: bristol myers squibb company | Text_b: bristol myers squibb co | Label: True\n",
      "Text_a: metlife inc | Text_b: metlife incorporated div: 1.500 | Label: True\n",
      "Text_a: nxp semiconductors n v com | Text_b: nxp semiconductors nv | Label: True\n",
      "Text_a: novo nordisk a/s-adr nvorepstg 1/2 cl b sh | Text_b: novo-nordisk a-s fadr 1 adr reps 1 ord shs | Label: True\n",
      "Text_a: vanguard total bond market index fund institutional shares | Text_b: vanguard total bond market idx instl pls | Label: False\n",
      "Text_a: accenture ltd ord | Text_b: accenture plc ireland | Label: True\n",
      "Text_a: pimco total ret fd instl | Text_b: pimco total return fund cl p | Label: False\n",
      "Text_a: pimco income a | Text_b: pimco incm inst cl | Label: False\n",
      "Text_a: t. rowe price institutional large cap growth | Text_b: t. rowe price institutional large cap growth fund | Label: True\n",
      "Text_a: hsbc hldgs plc spons adr new | Text_b: hsbc hldgs plc spon adr new | Label: True\n",
      "Text_a: carnival corp ord (panama) | Text_b: carnival corp com | Label: True\n",
      "Text_a: baidu inc spons ads repr 0.10 ord cls a us0.00005 | Text_b: baidu inc - spon adr | Label: True\n",
      "Text_a: vanguard mid-cap index fund institutional shares | Text_b: vanguard mid cap index ins | Label: True\n",
      "Text_a: ishares iboxx $ invt grade corp bd | Text_b: ishares iboxx ig corp bond | Label: True\n",
      "Text_a: ultimate software group inc | Text_b: ultimate software gp | Label: True\n",
      "Text_a: pimco income fund cl d | Text_b: pimco income a | Label: False\n",
      "Text_a: franklin income series cl a | Text_b: franklin incm fd cl a | Label: True\n",
      "Text_a: ormat technologies inc | Text_b: ormat technologies | Label: True\n",
      "Text_a: aqr mgd futures strat fd cl i | Text_b: aqr aqr mngd futures strategy i | Label: True\n",
      "Text_a: ishares russell midcap growth | Text_b: ishares russell midcap g etf div: 0.903 | Label: True\n",
      "Text_a: vanguard target retirement 2045 fund | Text_b: vang target ret 2045 | Label: True\n",
      "Text_a: vanguard total intl stk | Text_b: vanguard total intl etf | Label: True\n",
      "Text_a: sptn inter treas bnd investor class | Text_b: sptn int tr idx adv | Label: False\n",
      "Text_a: artisan intl value fund inv | Text_b: artisan international value | Label: True\n",
      "Text_a: stag industrials, inc. com | Text_b: stag industrial inc com | Label: True\n",
      "Text_a: parnassus endeavor fd | Text_b: parnassus endeavor fund investor shares | Label: True\n",
      "Text_a: johnson & johnson div: 3.000 | Text_b: johnson & johnson jnj | Label: True\n",
      "Text_a: eaton vance floating rate fd cl a | Text_b: eaton vance bond fund cl i | Label: False\n",
      "Text_a: vanguard total bond index adm | Text_b: vanguard ttl bnd mrk indx inst | Label: False\n",
      "Text_a: pimco total ret fd instl | Text_b: pimco total return fund - class r | Label: False\n",
      "Text_a: pimco total return fund cl d | Text_b: pimco tot return adm | Label: False\n",
      "Text_a: tivo inc com | Text_b: tidewater inc com new | Label: False\n",
      "Text_a: zimmer biomet hldgs | Text_b: zimmer biomet holdings inc com | Label: True\n",
      "Text_a: ford mtr company del com par $0.01 | Text_b: ford mtr co del com par $0.01 | Label: True\n",
      "Text_a: guggenheim bullet shrs 2018 hi y c bd etf | Text_b: guggenheim bulletshares 2018 | Label: True\n",
      "Text_a: apple inc com | Text_b: apple incorporated | Label: True\n",
      "Text_a: ishares jpm usd emr etf | Text_b: ishares jpm usd emrg mkt bnd e tf | Label: True\n",
      "Text_a: edison international cmn | Text_b: edison intl | Label: True\n",
      "Text_a: conagra foods inc div: 1.000 | Text_b: conagra foods inc | Label: True\n",
      "Text_a: advanced micro devices | Text_b: advanced micro devices inc | Label: True\n",
      "Text_a: american tower corporation reit | Text_b: american tower reit inc (hldg co) shs | Label: True\n",
      "Text_a: vang sm cap idx adm | Text_b: vanguard small cap index fund | Label: False\n",
      "Text_a: vanguard short-term bond index fund investor shares | Text_b: vanguard short-term bond index | Label: False\n",
      "Text_a: vanguard small cap index, adm | Text_b: vnguard index trust small cap idx instl | Label: False\n",
      "Text_a: ishares jpm usd emrg mkt bnd e tf | Text_b: ishares jpm embi global core | Label: True\n",
      "Text_a: blackrock strat income i | Text_b: blackrock strategic income opptys investor cl a | Label: False\n",
      "Text_a: ishares russell midcap | Text_b: ishares russell mid-cap etf | Label: True\n",
      "Text_a: ishares core msci emg mkts etf | Text_b: harding loevner emerging mkts | Label: False\n",
      "Text_a: vanguard intl equity index fds ftse emerging mkts etf | Text_b: vanguard ftse emerging mark etf iv | Label: True\n",
      "Text_a: american funds europacfic r5 | Text_b: american euro pac gr r5 | Label: True\n",
      "Text_a: vanguard crsp us small cap ind ex | Text_b: vanguard small cap etf | Label: True\n",
      "Text_a: delta air lines inc dela new | Text_b: delta air lines inc. (de) | Label: True\n",
      "Text_a: ishares 20+ yr treasu bond etf div: 3.107 | Text_b: ishares 20+ year treasury bo | Label: True\n",
      "Text_a: sptn glb xus idx fai | Text_b: spartan global ex us index fid adv cl | Label: False\n",
      "Text_a: fidelity new insights i | Text_b: fidelity advisor new insights fund cl i | Label: True\n",
      "Text_a: ishares tr nat amt free bd | Text_b: ishares tr natl mun bd etf fd | Label: True\n",
      "Text_a: vanguard small cap index adm | Text_b: vanguard small-cap index fund institutional shares | Label: False\n",
      "Text_a: first eagle global fd cl a | Text_b: first eagle global class a | Label: True\n",
      "Text_a: t rowe price mid cap growth | Text_b: mid-cap growth fund | Label: True\n",
      "Text_a: skyworks solutions | Text_b: skyworks solutions inc com | Label: True\n",
      "Text_a: tile shop hldgs inc | Text_b: tile shop hldg inc | Label: True\n",
      "Text_a: t. rowe price health sciences | Text_b: t rowe price health science fund inc | Label: True\n",
      "Text_a: coca-cola co/the | Text_b: coca-cola company | Label: True\n",
      "Text_a: atwood oceanics inc com | Text_b: atwood oceanics inc. | Label: True\n",
      "Text_a: dodge & cox funds income fund | Text_b: dodge & cox income fund n/l | Label: True\n",
      "Text_a: vanguard small cap index fund | Text_b: vnguard index trust small cap idx instl | Label: False\n",
      "Text_a: vanguard mid-cap value etf | Text_b: vanguard mid cap value etf | Label: True\n",
      "Text_a: american funds euro pacific growth r6 | Text_b: am fnd europacfic grth r6 | Label: True\n",
      "Text_a: wisdomtree intl smallcp dividend etf | Text_b: wisdomtree tr intl smallcap divid fd isin #us9 sedol #b17fg17 | Label: True\n",
      "Text_a: boeing company cmn | Text_b: boeing company | Label: True\n",
      "Text_a: ishares msci emerging markets | Text_b: harding loevner emerging mkts | Label: False\n",
      "Text_a: transocean ltd zug namen akt | Text_b: transocean ltd ord | Label: True\n",
      "Text_a: vanguard small-cap index fund admiral shares | Text_b: vanguard small-cap index adm | Label: False\n",
      "Text_a: pimco total ret fd instl | Text_b: pimco total return fd cl c | Label: False\n",
      "Text_a: jpmorgan equity income fund cl a | Text_b: jpmorgan us equity fund - class r6 | Label: True\n",
      "Text_a: energy sector index spdr | Text_b: energy sector spdr etf | Label: True\n",
      "Text_a: vanguard total internatlbnd etf iv | Text_b: vanguard charlotte total intl bd index fd etf | Label: True\n",
      "Text_a: t rowe price international discovery fund | Text_b: t. rowe price international discovery | Label: True\n",
      "Text_a: united sts stl cp (new) | Text_b: united states stl corp new | Label: True\n",
      "Text_a: coca cola co | Text_b: coca-cola company | Label: True\n",
      "Text_a: spdr barclays high yield bond (jnk) | Text_b: spdr barclays capital high yield bond et | Label: True\n",
      "Text_a: vanguard smallcap index fund | Text_b: vanguard small-cap index fund institutional shares | Label: True\n",
      "Text_a: fidelity select utilities portfolio | Text_b: fid sel utilities | Label: True\n",
      "Text_a: select sector spdr trust the technology select sector spdr fund | Text_b: technology sector sp etf | Label: True\n",
      "Text_a: guggenheim s&p 500 equal we cons etf | Text_b: guggenheim s&p 500 equalwe cons etf | Label: True\n",
      "Text_a: visa inc class a shares | Text_b: visa inc cl a div: 0.560 | Label: True\n",
      "Text_a: skyworks solutions inc com | Text_b: skyworks solutions inc | Label: True\n",
      "Text_a: alibaba group holding ltd spons ads | Text_b: alibaba group hldg adr fsponsored adr 1 adr reps 1 ord | Label: True\n",
      "Text_a: pimco income instl | Text_b: pimco incm inst cl | Label: False\n",
      "Text_a: vanguard growth index inv | Text_b: vanguard growth index fund admiral shares | Label: False\n",
      "Text_a: canadian natl railway co | Text_b: canadian natl ry co f | Label: True\n",
      "Text_a: first tr exchange traded fd dow jones internet index fd | Text_b: first tr exchange traded fd dow jones in | Label: True\n",
      "Text_a: vanguard total bond index adm | Text_b: vanguard total bond market index i | Label: False\n",
      "Text_a: ishares gold tr | Text_b: ishares gold tr ishares | Label: True\n",
      "Text_a: oppenheimer developing markets y fund | Text_b: oppenheimer developing markets cl y | Label: True\n",
      "Text_a: vanguard total bond market index adm | Text_b: vang tot bd mk is pl | Label: False\n",
      "Text_a: t. rowe price new income | Text_b: guidemark core fixed income | Label: False\n",
      "Text_a: vanguard mid-cap index fund institutional shares | Text_b: vang midcap idx inst | Label: True\n",
      "Text_a: mfs international new discovery r5 | Text_b: afs international growth & income fund cl f1 | Label: False\n",
      "Text_a: fitbit inc | Text_b: fitbit inc cl a | Label: True\n",
      "Text_a: vanguard growth index fund investor shares | Text_b: vanguard growth index fd admiral share | Label: True\n",
      "Text_a: comcast corp (new) class a div: 1.100 | Text_b: comcast corp cl a | Label: True\n",
      "Text_a: invesco diversified dividend investor cl | Text_b: fidelity advisor diversified international fund cl c | Label: True\n",
      "Text_a: blackrock high yld bd port cl k | Text_b: blackrock high yield bond portfolio svc | Label: False\n",
      "Text_a: sina com ord (caym is) | Text_b: sina corporation com | Label: True\n",
      "Text_a: t.rowe price new horizons-t | Text_b: new horizons fund | Label: True\n",
      "Text_a: vanguard value etf (vtv) | Text_b: vanguard value etf | Label: True\n",
      "Text_a: berkshire hathawayinc del cl b new | Text_b: berkshire hathawayinc | Label: True\n",
      "Text_a: schlumberger limited com usd0.01 | Text_b: schlumberger ltd. | Label: True\n",
      "Text_a: union pacific corp | Text_b: union pac corp com | Label: True\n",
      "Text_a: alps etf tr alerian mlp | Text_b: alps alerian mlp etf | Label: True\n",
      "Text_a: vanguard div growth fd investor shrs | Text_b: vanguard dividend growth fund investor shares | Label: True\n",
      "Text_a: tyson foods inc-cl a tsn | Text_b: tyson foods inc class a | Label: True\n",
      "Text_a: american mutual fund-a | Text_b: american mutual fund cl a | Label: True\n",
      "Text_a: canadian national railway | Text_b: canadian natl railway company com | Label: True\n",
      "Text_a: deutsche x-trackers msci eafe hedged equity etf | Text_b: deutsche x-trackers msci eafe equity etf | Label: True\n",
      "Text_a: vanguard total bond index adm | Text_b: vanguard total bond market idx instl pls | Label: False\n",
      "Text_a: western digital corp | Text_b: western digital corp com | Label: True\n",
      "Text_a: ishares core msci emg mkts etf | Text_b: harding loevner emerg mrkts port adv | Label: False\n",
      "Text_a: pimco high income fd com shs | Text_b: pimco high income fund | Label: False\n",
      "Text_a: ishares inc core msci emerging mkts etf | Text_b: harding loevner emerging mkts | Label: False\n",
      "Text_a: time warner inc com | Text_b: time warner inc | Label: True\n",
      "Text_a: vanguard international growth fund admiral | Text_b: vanguard international growth fund admiral shares | Label: True\n",
      "Text_a: ishares trust core msci total intl stk etf | Text_b: ishares core msci ttl int stk | Label: True\n",
      "Text_a: ishares iboxx invt gradebond etf | Text_b: ishares iboxx $ invt grade corp bd | Label: True\n",
      "Text_a: interactive brokers group inc. com | Text_b: interactive brokers class a | Label: True\n",
      "Text_a: adobe systems | Text_b: adobe systems incorporated | Label: True\n",
      "Text_a: vang tot bd mkt adm | Text_b: vanguard total bond market idx instl pls | Label: False\n",
      "Text_a: yandex nv com | Text_b: yandex n.v. com usd0.01 cl a | Label: True\n",
      "Text_a: vanguard small cap index - a | Text_b: vanguard small-cap index fund inst | Label: False\n",
      "Text_a: sirius xm hldgs inc com isin #us5 sedol #bgldk10 | Text_b: sirius xm hldgs inc com | Label: True\n",
      "Text_a: vanguard target retirement 203 5 fund | Text_b: vang target ret 2035 | Label: True\n",
      "Text_a: communications sales&leas inc div: 2.400 | Text_b: communications sales&leas inc com | Label: True\n",
      "Text_a: vanguard index fds vanguard total stk mkt etf | Text_b: us total stock market | Label: True\n",
      "Text_a: t. rowe price equity income fund | Text_b: t. rowe price equity income | Label: True\n",
      "Text_a: ishares tr core us aggt bd etf | Text_b: ishares core us aggregate bond etf | Label: True\n",
      "Text_a: american funds europacific growthr3 | Text_b: american funds europacific growth fund | Label: True\n",
      "Text_a: lazard emerging mkts eqty port opn | Text_b: lzrd emrg mkts eq o | Label: True\n",
      "Text_a: pimco income a | Text_b: pimco income administrative | Label: False\n",
      "Text_a: american express co | Text_b: american express company | Label: True\n",
      "Text_a: taser international | Text_b: taser intl inc del com | Label: True\n",
      "Text_a: vanguard short term tax exempt fd investor shr | Text_b: vanguard short-term tax-exempt fund investor shares | Label: True\n",
      "Text_a: ishares core msci emerging markets etf | Text_b: harding loevner emerg mrkts port adv | Label: False\n",
      "Text_a: vanguard institutional index fund institutional shares | Text_b: vanguard institl index | Label: True\n",
      "Text_a: trp real estate adv | Text_b: t rowe price real estate fund adv cl | Label: True\n",
      "Text_a: jp morgan chase & co com | Text_b: jpmorgan chase & co div: 1.760 | Label: True\n",
      "Text_a: vanguard 500 index fund admira l | Text_b: vanguard 500 index fund admiral class | Label: True\n",
      "Text_a: dollar gen corp new com | Text_b: dollar general corp | Label: True\n",
      "Text_a: us silica holdings inc | Text_b: u s silica hldgs inc com | Label: True\n",
      "Text_a: alphabet inc cap stk cl c cap stk cl c | Text_b: alphabet inc cl c | Label: True\n",
      "Text_a: ishares msci usa min volility etf | Text_b: proshares short vix short term etf | Label: False\n",
      "Text_a: fidelity low-priced stock | Text_b: fid low priced stk | Label: True\n",
      "Text_a: vang st invstgrd inv | Text_b: vanguard short-term invest-grade | Label: False\n",
      "Text_a: goldman sachs mangd futures strategy a | Text_b: aqr aqr mngd futures strategy i | Label: False\n",
      "Text_a: select sector spdr trust health care select index | Text_b: health care select spdr fund | Label: True\n",
      "Text_a: metropolitan west fds total ret cl i | Text_b: metropolitan west tot ret bond | Label: False\n",
      "Text_a: chubb limited com | Text_b: chubb ltd | Label: True\n",
      "Text_a: vanguard ftse emerg mkts etf | Text_b: vanguard intl equity index fds ftse emerging mkts etf | Label: True\n",
      "Text_a: energy transfer partners un | Text_b: cheniere energy partners lp com | Label: False\n",
      "Text_a: baron partners | Text_b: baron partners fund | Label: True\n",
      "Text_a: prudential financial inc cmn | Text_b: prudential finl inc | Label: True\n",
      "Text_a: t rowe price retirement 2050 fund | Text_b: t. rowe price retirement 2050 fund | Label: True\n",
      "Text_a: templeton global bond class a | Text_b: templeton global bd r | Label: False\n",
      "Text_a: dominion resources inc va new | Text_b: dominion resources inc/va | Label: True\n",
      "Text_a: ishares tr core us aggt bd etf | Text_b: ishares core u.s. aggregate | Label: True\n",
      "Text_a: citigroup inc | Text_b: citigroup inc new div: 0.200 | Label: True\n",
      "Text_a: invesco comstock fund cl a | Text_b: invesco comstock y | Label: False\n",
      "Text_a: oppen developing mkts a | Text_b: oppenheimer developing mkts fd cl a | Label: True\n",
      "Text_a: alphabet inc shs cl a | Text_b: alphabet inc voting | Label: True\n",
      "Text_a: national grid new adr each repr 5 ord gbp0.11395 | Text_b: national grid plc new spon adr | Label: True\n",
      "Text_a: ishares russell 3000 index etf | Text_b: ishares russell 3000 etf | Label: True\n",
      "Text_a: titan international inc com | Text_b: titan international inc | Label: True\n",
      "Text_a: proshares tr ii ultra bloomberg crude oi | Text_b: proshares ultra bloomberg crude oil etf | Label: True\n",
      "Text_a: ishares core msci emerging markets etf | Text_b: harding loevner emerging mkts | Label: False\n",
      "Text_a: vang tot bd mkt adm | Text_b: vanguard total bond market index i | Label: False\n",
      "Text_a: mfs global total return fund cl a | Text_b: mfs global total return cl a | Label: True\n",
      "Text_a: metropolitan west total return m | Text_b: metropolitan west tot ret bond | Label: False\n",
      "Text_a: blckrck inflation protect | Text_b: blackrock inflation protected bond instl | Label: False\n",
      "Text_a: dfa real estate securities i | Text_b: dfa real estate securities fund institutional class | Label: True\n",
      "Text_a: leucadia natl corp com | Text_b: leucadia national co | Label: True\n",
      "Text_a: pimco income fd i | Text_b: pimco income instl | Label: False\n",
      "Text_a: trp retirement 2045 | Text_b: t. rowe price retirement 2045 | Label: True\n",
      "Text_a: wal-mart stores inc com isin #us9311421039 sedol #2936921 | Text_b: scana corp new com isin #us7 sedol #2545844 | Label: False\n",
      "Text_a: oppenheimer developing market a | Text_b: oppenheimer developing mkts fd cl a | Label: True\n",
      "Text_a: nuveen high yield muni bond fund cl i | Text_b: nuveen high yield municipal bond a | Label: False\n",
      "Text_a: vanguard short term invt grade admiral | Text_b: vanguard short-term investment-grade fund investor shares | Label: False\n",
      "Text_a: the growth fund of america | Text_b: amer fds grwth fd amr a | Label: False\n",
      "Text_a: fireeye inc | Text_b: fireeye inc com usd0.0001 | Label: True\n",
      "Text_a: templeton global bond fund advisor class | Text_b: templeton global bond fund adv cl | Label: True\n",
      "Text_a: ishares inc core msci emerging mkts etf | Text_b: harding loevner emerg mrkts port adv | Label: False\n",
      "Text_a: silver wheaton corp. ads | Text_b: silver wheaton corporation com npv isin #ca6 sedol #b058zx6 | Label: True\n",
      "Text_a: dfa us small cap value prtf instl | Text_b: dfa us sm cap value | Label: True\n",
      "Text_a: united states oil fund lp exchange-traded fund | Text_b: united states oil fund lp unit | Label: True\n",
      "Text_a: pimco total return instl | Text_b: fund: pimco total return admin | Label: False\n",
      "Text_a: tesla motors inc com | Text_b: tesla motors inc. | Label: True\n",
      "Text_a: schwab short term us treasury etf | Text_b: schwab strategic tr short-term us treasury | Label: True\n",
      "Text_a: vanguard total bond index adm | Text_b: vang tot bd mk is pl | Label: False\n",
      "Text_a: van small cap index admir | Text_b: vang sm cap idx inst | Label: False\n",
      "Text_a: facebook incorporated class a | Text_b: facebook inc cl a | Label: True\n",
      "Text_a: vanguard ext market index inst | Text_b: vanguard extended market idx adm | Label: False\n",
      "Text_a: t. rowe price new horizons | Text_b: new horizons fund | Label: True\n",
      "Text_a: vanguard total bond market index fund admiral shares | Text_b: vanguard bond index total mkt investor | Label: False\n",
      "Text_a: lloyds banking group plc div: 0.129 | Text_b: lloyds banking group plc | Label: True\n",
      "Text_a: vbr:vanguard small-cap value etf | Text_b: vanguard small cap valueetf iv | Label: True\n",
      "Text_a: constellation brands inc cl a | Text_b: constellation brand class a | Label: True\n",
      "Text_a: jp morgan chase & co com | Text_b: jp morgan chase & co | Label: True\n",
      "Text_a: pimco total return instl | Text_b: pimco total return fund instl cl | Label: False\n",
      "Text_a: ishares gold etf | Text_b: ishares gold trust com | Label: True\n",
      "Text_a: schwab intl core equity | Text_b: schwab intl core eqty fd instl cl | Label: True\n",
      "Text_a: vanguard total bond market index-admiral | Text_b: vang tot bd mkt inst | Label: False\n",
      "Text_a: pimco total return instl | Text_b: pimco total return fund adm | Label: False\n",
      "Text_a: alibaba group hldg ltd sponsor | Text_b: alibaba group hldg ltd adr | Label: True\n",
      "Text_a: ishares russell 1000 growth | Text_b: russell 1000 growth (ishares) | Label: True\n",
      "Text_a: walt disney co | Text_b: disney | Label: True\n",
      "Text_a: vanguard s&p 500 etf (voo) | Text_b: vanguard index fds s&p 500 etf | Label: True\n",
      "Text_a: ishares msci eafe min volatility etf | Text_b: ishares trust msci eafe min volatil etf | Label: True\n",
      "Text_a: kraft heinz co com | Text_b: kraft heinz co div: 2.300 | Label: True\n",
      "Text_a: metr w tot rtn bond cl m | Text_b: metropolitan west tot ret bond | Label: False\n",
      "Text_a: berkshire hathaway cl-b new | Text_b: berkshire hathaway inc. | Label: True\n",
      "Text_a: momenta pharmaceuticals | Text_b: momenta pharmaceuticals inc com | Label: True\n",
      "Text_a: colgate palmolive | Text_b: colgate palmolive co com | Label: True\n",
      "Text_a: ishares inc core msci emerging mkts etf | Text_b: ishares msci emerging markets | Label: True\n",
      "Text_a: powershares qqq etf | Text_b: powershares qqq trust sr 1 etf | Label: True\n",
      "Text_a: vanguard small-cap index fund admiral | Text_b: vanguard small-cap index fund institutional shares | Label: False\n",
      "Text_a: corning inc cm | Text_b: corning inc | Label: True\n",
      "Text_a: vereit inc reit | Text_b: vereit inc | Label: True\n",
      "Text_a: ishares core msci emerging div: 0.995 | Text_b: ishares core msci emg mkts etf | Label: True\n",
      "Text_a: american funds europacific growth-r6 | Text_b: american funds europacific growth fund class r-6 | Label: True\n",
      "Text_a: national oilwell varco inc com | Text_b: national-oilwell varco inc | Label: True\n",
      "Text_a: vanguard 500 index fund admiral shares | Text_b: vnguard 500 index admiral shares | Label: True\n",
      "Text_a: facebook inc. | Text_b: facebook inc class a | Label: True\n",
      "Text_a: whole foods market inc | Text_b: whole foods markets inc div: 0.540 | Label: True\n",
      "Text_a: bhp billiton plc - adr | Text_b: bhp billiton plc spons adr each rep 2 ord usd0.50 | Label: True\n",
      "Text_a: ishares russell 2000 growth etf iv | Text_b: ishares russell 2000 grwth etf div: 1.243 | Label: True\n",
      "Text_a: osterweis strategic income fund | Text_b: professionally mgd ptfl osterweis strategic inc fd | Label: True\n",
      "Text_a: vanguard small cap value etf | Text_b: vanguard small cap valueetf iv | Label: True\n",
      "Text_a: wa core plus bond i | Text_b: western asset core plus bond fd cl fi | Label: False\n",
      "Text_a: kraft heinz co div: 2.300 | Text_b: kraft heinz co com | Label: True\n",
      "Text_a: nokia corp-spon adr | Text_b: nokia corp cls a adr (finnish) | Label: True\n",
      "Text_a: citrix systems inc. | Text_b: citrix systems inc | Label: True\n",
      "Text_a: devry education group inc div: 0.360 | Text_b: devry education group | Label: True\n",
      "Text_a: vanguard gnma fund admiral shares | Text_b: vanguard gnma fund investor share | Label: False\n",
      "Text_a: vanguard star investor class | Text_b: vanguard star fund investor shares | Label: True\n",
      "Text_a: vanguard total bond market index adm | Text_b: vanguard total bond market index fund investor shares | Label: False\n",
      "Text_a: ishares gold tr | Text_b: ishares gold etf | Label: True\n",
      "Text_a: eaton corp plc com | Text_b: eaton corp plc f | Label: True\n",
      "Text_a: pepsico inc com | Text_b: pepsico inc cmn | Label: True\n",
      "Text_a: wal-mart stores inc com | Text_b: wal-mart stores inc. | Label: True\n",
      "Text_a: whole foods mkt inc com | Text_b: whole foods market | Label: True\n",
      "Text_a: american capital world growth and income fd a | Text_b: american capital world grth & inc a | Label: True\n",
      "Text_a: vanguard mid cap index fund - admiral | Text_b: vanguard mid cap index fund admiral class | Label: True\n",
      "Text_a: fidelity corporate bond fund | Text_b: baird core plus bond inst | Label: False\n",
      "Text_a: spartan extended mkt index fid adv class | Text_b: spartan extended mkt index investor cl | Label: False\n",
      "Text_a: nxp semiconductors f | Text_b: nxp semiconductors n v | Label: True\n",
      "Text_a: columbia dividend income | Text_b: col dividend inc z | Label: True\n",
      "Text_a: vanguard sml-cap ind-adm | Text_b: vanguard small-cap index fund admiral | Label: False\n",
      "Text_a: vanguard index 500 port | Text_b: vanguard 500 index fund-inv | Label: True\n",
      "Text_a: baidu inc fadr 1 adr reps 0.1 ord shs | Text_b: baidu inc sponsored adr repstg ord shares class a | Label: True\n",
      "Text_a: delaware value fund institutional | Text_b: delaware value cl a | Label: False\n",
      "Text_a: vanguard total bond market index fund admiral shares | Text_b: vanguard total bond market index inv | Label: False\n",
      "Text_a: arista networks inc | Text_b: arista networks inc com usd0.0001 | Label: True\n",
      "Text_a: ishares 1-3 yr treasury bnd etf | Text_b: ishares 1-3 yr treasury bnd et f | Label: True\n",
      "Text_a: united sts oil fd lp units | Text_b: united states oil fund lp exchange-traded fund | Label: True\n",
      "Text_a: pimco income fund cl p | Text_b: pimco fds income instl | Label: False\n",
      "Text_a: diageo plc fadr 1 adr reps 4 ord shs | Text_b: diageo p l c spon adr new | Label: True\n",
      "Text_a: harbor capital appreciation instl | Text_b: harbor capital appreciation | Label: True\n",
      "Text_a: price t rowe group inc com isin #us74144t1088 sedol #2702337 | Text_b: c h robinson worldwide inc com new isin #us8 sedol #2116228 | Label: False\n",
      "Text_a: ishares s&p midcap fund | Text_b: ishares core s&p mid capetf | Label: True\n",
      "Text_a: pimco total return cl a | Text_b: fund: pimco total return admin | Label: False\n",
      "Text_a: johnson and johnson | Text_b: johnson and johnson com | Label: True\n",
      "Text_a: ishares msci cda etf | Text_b: ishares msci canada index | Label: True\n",
      "Text_a: carnival corp com | Text_b: carnival corp f | Label: True\n",
      "Text_a: priceline group | Text_b: priceline grp inc com new | Label: True\n",
      "Text_a: westport innovation f | Text_b: westport innovations inc | Label: True\n",
      "Text_a: wisdomtree emerging markets high dividend fund etf | Text_b: wisdomtree emrg mrkt hg div etf | Label: True\n",
      "Text_a: d.r. horton inc | Text_b: d r horton co | Label: True\n",
      "Text_a: vanguard total bond market index adm | Text_b: vanguard total bond market idx instl pls | Label: False\n",
      "Text_a: ishares 7-10 year treas bond etf | Text_b: ishares barclays 7-10 year treasury bond | Label: True\n",
      "Text_a: vanguard total bond market index-admiral | Text_b: vanguard total bond market index fund institutional plus shares | Label: False\n",
      "Text_a: vanguard sml-cap ind-adm | Text_b: vanguard small-cap index fund institutional shares | Label: False\n",
      "Text_a: vanguard interm-term investment-grde adm | Text_b: vanguard intermediate term inv gr fd inv cl | Label: False\n",
      "Text_a: teva pharmaceuticals adr | Text_b: teva pharmaceuticals ind ltd israel adr | Label: True\n",
      "Text_a: dfa intl small cap value cl i | Text_b: dfa intl small cap value port instl | Label: True\n",
      "Text_a: prudential financial inc div: 2.800 | Text_b: prudential finl inc | Label: True\n",
      "Text_a: af bond fd amer r6 | Text_b: the bond fund of america-a | Label: False\n",
      "Text_a: allergan plc | Text_b: allergan plc f | Label: True\n",
      "Text_a: vale sa | Text_b: vale s a adr | Label: True\n",
      "Text_a: vanguard short-term corporate bond etf | Text_b: vanguard short-term corporate bond | Label: True\n",
      "Text_a: vanguard index fds vanguard small cap growth vipers formerly | Text_b: vanguard small-cap grwth etf | Label: True\n",
      "Text_a: vanguard short-term bondetf | Text_b: vanguard short term etf | Label: True\n",
      "Text_a: goldman sachs mgd futures strat a | Text_b: aqr mgd futures strat fd cl i | Label: True\n",
      "Text_a: vanguard total bond index adm | Text_b: vanguard total bond market index fund investor shares | Label: False\n",
      "Text_a: xinyuan real estate com | Text_b: xinyuan real estate co ltd spon adr | Label: True\n",
      "Text_a: ishares core u.s. aggregate bond etf | Text_b: ishares core total us bond market etf | Label: True\n",
      "Text_a: devon energy corp | Text_b: devon energy corporation (new) cmn | Label: True\n",
      "Text_a: berkshire hathaway class b | Text_b: berkshire hathawayinc | Label: True\n",
      "Text_a: vanguard reit index investor | Text_b: vanguard reit index inv | Label: True\n",
      "Text_a: markel corp hldg co | Text_b: markel corp | Label: True\n",
      "Text_a: vanguard high-yield corporate fund investor shares | Text_b: vanguard high yield corp fund admiral share | Label: False\n",
      "Text_a: oneok inc new div: 2.460 | Text_b: oneok inc cm (new) | Label: True\n",
      "Text_a: iron mtn inc new com div: 1.940 | Text_b: iron mtn inc reit | Label: True\n",
      "Text_a: howard hughes corp com | Text_b: howard hughes corp | Label: True\n",
      "Text_a: af bond fd amer r6 | Text_b: the bond fund of america | Label: False\n",
      "Text_a: kraft heinz co | Text_b: kraft heinz co div: 2.300 | Label: True\n",
      "Text_a: costco wholesale crp del | Text_b: costco wholesale co | Label: True\n",
      "Text_a: first trust amex biotechnology index fund | Text_b: first trust nyse arca biotechnology index fund | Label: True\n",
      "Text_a: american tower corporation isin #us0 sedol #b7fbfl2 | Text_b: american tower corp reit | Label: True\n",
      "Text_a: the growth fund of america | Text_b: the growth fund of america-529a (1005) | Label: True\n",
      "Text_a: priceline group inc com | Text_b: priceline group inc | Label: True\n",
      "Text_a: pimco total return fund instl cl | Text_b: total return fund (pimco) | Label: False\n",
      "Text_a: southwest gas corp. | Text_b: southwest gas corp div: 1.800 | Label: True\n",
      "Text_a: vanguard dividend growth fund investor shares | Text_b: vanguard dividend growth fund | Label: True\n",
      "Text_a: j p morgan chase & co | Text_b: jpmorgan chase & co div: 1.760 | Label: True\n",
      "Text_a: merck & company inc new | Text_b: merck & co inc new | Label: True\n",
      "Text_a: pimco incm cl d | Text_b: pimco income fd i | Label: False\n",
      "Text_a: vanguard fixed income secs inter term invt grade fd admiral cl | Text_b: vanguard intermediate term inv gr fd inv cl | Label: False\n",
      "Text_a: vanguard growth index fund investor shares | Text_b: vanguard growth index admiral | Label: False\n",
      "Text_a: guggenheim bulletshares 2018 | Text_b: guggenheim bulletshares 2018 high yield corp bd | Label: True\n",
      "Text_a: vanguard total bond market div: 2.009 | Text_b: vanguard total bond mkt | Label: True\n",
      "Text_a: blackhawk network hldgs inc cl a | Text_b: blackhawk netwk hldgs inc | Label: True\n",
      "Text_a: vanguard balanced index fd inv cl shrs | Text_b: vanguard balanced index fund admiral shares | Label: False\n",
      "Text_a: vanguard mid-cap value index fund | Text_b: vanguard mid-cap value etf | Label: True\n",
      "Text_a: ishares tr natl mun bd etf fd | Text_b: ishares nationl amt freemuni etf | Label: True\n",
      "Text_a: bank amer corp com | Text_b: bank of america corp. | Label: True\n",
      "Text_a: russell 1000 growth (ishares) | Text_b: ishares russell 1000 grw etf div: 1.363 | Label: True\n",
      "Text_a: american fd growth fd of america cl a | Text_b: amer fds grwth fd amr a | Label: True\n",
      "Text_a: ishares us real estate etf | Text_b: ishares u s real estate etf | Label: True\n",
      "Text_a: dfa emerging markets portfolio | Text_b: dfa emrging markets | Label: True\n",
      "Text_a: alphabet inc-cl a | Text_b: alphabet inc. class a | Label: True\n",
      "Text_a: raytheon co (new) div: 2.680 | Text_b: raytheon co com | Label: True\n",
      "Text_a: charles schwab new | Text_b: schwab charles corp new | Label: True\n",
      "Text_a: alibaba group holding lt | Text_b: alibaba group hldg ltd sponsor | Label: True\n",
      "Text_a: oakmark international i | Text_b: oakmark fds oakmark intl | Label: True\n",
      "Text_a: mastercard incorporated cmn class a | Text_b: mastercard inc-class a | Label: True\n",
      "Text_a: kimberly-clark corp | Text_b: kimberly-clark corp. | Label: True\n",
      "Text_a: ishares 7-10 yr treasry bd etf div: 1.973 | Text_b: ishares barclays 7-10 year treasury bond | Label: True\n",
      "Text_a: vanguard small-cap index fund admiral shares | Text_b: vanguard small-cap index fund inst | Label: False\n",
      "Text_a: foot locker inc com isin #us9 sedol #2980906 | Text_b: foot locker inc com isin #us3448491049 sedol #2980906 | Label: True\n",
      "Text_a: vanguard ttl bond mkt idx adm | Text_b: vanguard total bond market index inv | Label: False\n",
      "Text_a: chesapeake energy corporation oklahoma | Text_b: chesapeake energy corp | Label: True\n",
      "Text_a: charles schwab corporation cmn | Text_b: schwab charles corp new | Label: True\n",
      "Text_a: vanguard intl equity index fds ftse all world ex usa small cap index fd etf shs | Text_b: vanguard ftse all world ex us small cap etf | Label: True\n",
      "Text_a: chicago bridge & iron co nv | Text_b: chicago bridge & iron company n.v. eur0.01 reg | Label: True\n",
      "Text_a: amer fds grwth fd amr a | Text_b: american gr fd of america a | Label: True\n",
      "Text_a: amg managers real estate securities fund | Text_b: amg managers real estate securities fd | Label: True\n",
      "Text_a: american new perspective class a | Text_b: new perspective fund cl a | Label: True\n",
      "Text_a: lloyds banking group plc sp adr | Text_b: lloyds banking group plc div: 0.129 | Label: True\n",
      "Text_a: vanguard 500 idx adm | Text_b: vanguard s&p 500 index - a | Label: True\n",
      "Text_a: vanguard total bond market index admiral | Text_b: vanguard total bond market index fund institutional shares | Label: False\n",
      "Text_a: j p morgan chase & co | Text_b: jp morgan chase & co | Label: True\n",
      "Text_a: halliburton co hldg | Text_b: halliburton company | Label: True\n",
      "Text_a: guggenheim bulletshares 2018 high yield corp bd | Text_b: claymore exchange traded fd trust guggenheim bltshrs 2018 high yld cp bd | Label: True\n",
      "Text_a: ishares russell 2000 value etf | Text_b: ishares russell 2000 value etf iv | Label: True\n",
      "Text_a: pimco total return a | Text_b: total return fund (pimco) | Label: False\n",
      "Text_a: vanguard index fds vanguard reit etf formerly vanguard index tr to 05/24/01 reit viper shs | Text_b: vanguard index fds vanguard reit etf formerly vanguard index | Label: True\n",
      "Text_a: powershares emrg mkts sovrgn dbt etf | Text_b: powershares emerging markets sovereign d | Label: True\n",
      "Text_a: vang tot bd mkt adm | Text_b: vanguard total bond market index | Label: False\n",
      "Text_a: arena pharmaceuticals inc com | Text_b: arena pharmaceuticals | Label: True\n",
      "Text_a: nokia corp spon adr f1 adr rep 1 nokia corps | Text_b: nokia corp sponsored adr | Label: True\n",
      "Text_a: vanguard value index fund admiral shares | Text_b: vanguard value index fund institutional shares | Label: False\n",
      "Text_a: vanguard total int bd idx etf | Text_b: vanguard charlotte total intl bd index fd etf | Label: True\n",
      "Text_a: pimco total ret fd instl | Text_b: pimco total return r | Label: False\n",
      "Text_a: intl business machines | Text_b: intl business mach | Label: True\n",
      "Text_a: harbor international fund | Text_b: harbor international | Label: True\n",
      "Text_a: vanguard intl bond index etf | Text_b: vanguard total internatlbnd etf iv | Label: True\n",
      "Text_a: vanguard extended market index institutional class | Text_b: vang ext mkt idx ins | Label: False\n",
      "Text_a: caterpillar inc del | Text_b: caterpillar inc | Label: True\n",
      "Text_a: visa inc com cl a | Text_b: salesforce.com inc com | Label: False\n",
      "Text_a: pimco total return admin | Text_b: total return fund (pimco) | Label: False\n",
      "Text_a: pepsico inc. | Text_b: pepsico inc nc div: 2.810 | Label: True\n",
      "Text_a: powershares fin pfd portfoli | Text_b: powershares etf financial pfd portfolio | Label: True\n",
      "Text_a: fid sel biotech | Text_b: fidelity select biotechnology | Label: True\n",
      "Text_a: arcelormittal sa luxembourg ny registry sh isin #us4 sedol #b295f26 | Text_b: arcelormittal sa (luxembourg) | Label: True\n",
      "Text_a: realty incm corp reit | Text_b: realty income corporation com | Label: True\n",
      "Text_a: vanguard total international stock index fund admiral shares | Text_b: vanguard ttl intl stk ind adm | Label: True\n",
      "Text_a: c h robinson worldwide inc com new isin #us8 sedol #2116228 | Text_b: c.h. robinson worldwide inc | Label: True\n",
      "Text_a: sprint corp shs series - | Text_b: sprint corp | Label: True\n",
      "Text_a: google inc cl c | Text_b: alphabet inc cap stk cl c | Label: True\n",
      "Text_a: templeton glbal bond adv | Text_b: templeton global bond adv | Label: True\n",
      "Text_a: apollo investments corp com | Text_b: apollo invt corp com | Label: True\n",
      "Text_a: sptn us bond idx is | Text_b: spartan us bond indx fidelity adv class | Label: False\n",
      "Text_a: ishares inc msci emrg mkts min volatility etf | Text_b: ishares msci markets minvol etf | Label: True\n",
      "Text_a: vanguard total bond market index admiral | Text_b: vanguard total bond market idx-adm | Label: False\n",
      "Text_a: southwest gas corp div: 1.800 | Text_b: southwest gas corp | Label: True\n",
      "Text_a: vanguard ftse developd mkt etf | Text_b: vanguard ftse dev markets etf | Label: True\n",
      "Text_a: spdr nuveen barclays muni bond etf | Text_b: spdr nuveen barclays muni | Label: True\n",
      "Text_a: dodge & cox interntl stock | Text_b: dodge & cox international stock | Label: True\n",
      "Text_a: alexion pharms inc | Text_b: alexion pharmaceuticals inc | Label: True\n",
      "Text_a: vanguard total bond market idx-adm | Text_b: vanguard ttl bnd mrk indx inst | Label: False\n",
      "Text_a: general mtrs co | Text_b: general motors co. | Label: True\n",
      "Text_a: zoes kitchen inc com isin #us7 sedol #bl95n36 | Text_b: zoes kitchen inc com | Label: True\n",
      "Text_a: loomis sayles bond fund cl i | Text_b: loomis sayles mlti-asset inc a | Label: False\n",
      "Text_a: athenahealth inc delaware | Text_b: athenahealth inc | Label: True\n",
      "Text_a: ishares silver trust etf | Text_b: ishares silver shares | Label: True\n",
      "Text_a: emerging markets | Text_b: harding loevner emerging mkts | Label: False\n",
      "Text_a: markel corp hldg co | Text_b: markel corp holding company | Label: True\n",
      "Text_a: ameriprise financial inc | Text_b: ameriprise finl inc | Label: True\n",
      "Text_a: vanguard malvern fds etf | Text_b: vanguard short term inflation protected | Label: True\n",
      "Text_a: alibaba group hldg limited sponsored ads | Text_b: alibaba group hldg adr fsponsored adr 1 adr reps 1 ord | Label: True\n",
      "Text_a: american funds american hi inc tr r3 | Text_b: american high-income trust | Label: False\n",
      "Text_a: first eagle global i | Text_b: first eagle global fund cl i | Label: True\n",
      "Text_a: van mid cap index adm m4940 | Text_b: vanguard mid cap index | Label: True\n",
      "Text_a: chesapeake energy corp | Text_b: chesapeake energy corp com | Label: True\n",
      "Text_a: starbucks corp. cmn | Text_b: starbucks corp washington div: 0.800 | Label: True\n",
      "Text_a: mc donalds corp div: 3.560 | Text_b: mcdonalds corp | Label: True\n",
      "Text_a: american funds europacifc r3 | Text_b: american funds europacific r3 | Label: True\n",
      "Text_a: block h & r inc | Text_b: block h&r inc | Label: True\n",
      "Text_a: vanguard ftse developed mkts etf | Text_b: vanguard ftse developed market etf | Label: True\n",
      "Text_a: vang tot bd mkt adm | Text_b: vang tot bd mk is pl | Label: False\n",
      "Text_a: pimco investment grade corporate bond fund - class a | Text_b: fidelity conservativ income bond fd cl i | Label: False\n",
      "Text_a: vanguard mid cap index fund - admiral | Text_b: vanguard mid cap index fd | Label: True\n",
      "Text_a: vanguard intrmd-term bond index adm | Text_b: vanguard inter-term bond index port inv | Label: False\n",
      "Text_a: infinera corporation com isin #us1 sedol #b1yb5y4 | Text_b: infinera corp com | Label: True\n",
      "Text_a: vanguard crsp us small cap index | Text_b: vanguard small cap etf | Label: True\n",
      "Text_a: oneok partners lp lp | Text_b: oneok partners l p unit ltd partnership | Label: True\n",
      "Text_a: american mutual fund | Text_b: american fd american mutual fd cl f2 | Label: False\n",
      "Text_a: american funds europacific growth-r5 | Text_b: american europacific growth | Label: True\n",
      "Text_a: vang tot bd mkt adm | Text_b: vanguard ttl bnd mrk indx inst | Label: False\n",
      "Text_a: breitburn energy partners lp c | Text_b: breitburn energy partners lp com | Label: True\n",
      "Text_a: new york community bancorp inc. | Text_b: new york community | Label: True\n",
      "Text_a: pimco income instl | Text_b: pimco income administrative | Label: False\n",
      "Text_a: select sector spdr trust technology select index | Text_b: sector spdr tr shs ben int technology | Label: True\n",
      "Text_a: vanguard ttl bond mkt idx adm | Text_b: vanguard bond index total mkt investor | Label: False\n",
      "Text_a: tmpl global bond a | Text_b: templeton global bond fund r | Label: False\n",
      "Text_a: ishares 20+ year treasury bo | Text_b: ishares 20+ year | Label: True\n",
      "Text_a: vang sm cap idx adm | Text_b: vnguard index trust small cap idx instl | Label: False\n",
      "Text_a: linkedin corp class a | Text_b: linkedin corp-a | Label: True\n",
      "Text_a: primecap odyssey stock | Text_b: primecap odyssey stock fund | Label: True\n",
      "Text_a: time warner inc | Text_b: time warner inc com new | Label: True\n",
      "Text_a: vanguard total bond market index-admiral | Text_b: vanguard total bond market index fund institutional plus | Label: False\n",
      "Text_a: marathon pete corporation | Text_b: loews corporation div: 0.250 | Label: False\n",
      "Text_a: ishares core msci emerging etf | Text_b: harding loevner emerging mkts | Label: False\n",
      "Text_a: vanguard short term tax exempt admiral share | Text_b: vanguard short-term tax-exempt fund investor shares | Label: False\n",
      "Text_a: ford motor com | Text_b: ford mtr co | Label: True\n",
      "Text_a: vanguard ftse all world ex us etf | Text_b: vanguard ftse all-world ex-u | Label: True\n",
      "Text_a: vmware inc cl a com | Text_b: vmware inc. | Label: True\n",
      "Text_a: royal dutch shell plc spons adr a | Text_b: royal dutch shell plc sponsored adr repstg a shs | Label: True\n",
      "Text_a: spdr nuveen barclays municipal bond etf | Text_b: spdr nuveen barclays capital m div: 0.556 | Label: True\n",
      "Text_a: united parcel service cl b | Text_b: united parcel service inc cl b | Label: True\n",
      "Text_a: vang smcp gr idx adm | Text_b: vanguard small cap growth index admiral | Label: False\n",
      "Text_a: novo-nordisk a s adr | Text_b: novo-nordisk a s adr isin #us6 sedol #2651202 | Label: True\n",
      "Text_a: fidelity mass muni income | Text_b: nuveen equity premium income | Label: False\n",
      "Text_a: ishares russell mid-cap value etf | Text_b: ishares russell mid cap value etf iv | Label: True\n",
      "Text_a: yamana gold inc cmn | Text_b: yamana gold inc com | Label: True\n",
      "Text_a: vanguard total bond market idx-adm | Text_b: vanguard total bond market idx instl pls | Label: False\n",
      "Text_a: otter tail corp com | Text_b: otter tail corporation cmn | Label: True\n",
      "Text_a: sptn intl index ins | Text_b: sptn intl index adv | Label: True\n",
      "Text_a: cnooc ltd. adr (sponsored) | Text_b: cnooc limited adr fsponsored adr 1 adr rep 100 cl h ord | Label: True\n",
      "Text_a: eaton vance global macro abs ret a | Text_b: eaton vance global macro abslte rt cl a | Label: True\n",
      "Text_a: dfa u s small cap value cl i | Text_b: dfa us small cap value prtf instl | Label: True\n",
      "Text_a: sears canada inc (canada) | Text_b: sears cda inc | Label: True\n",
      "Text_a: at&t inc com isin #us00206r1023 sedol #2831811 | Text_b: franklin res inc com isin #us8 sedol #2350684 | Label: False\n",
      "Text_a: vanguard total international bond index etf | Text_b: vanguard total international bond et | Label: True\n",
      "Text_a: wisdomtree japan hedged equity - | Text_b: wisdomtree japan hedged eq | Label: True\n",
      "Text_a: templeton global bond fund advisor class | Text_b: templeton glbal bond adv | Label: True\n",
      "Text_a: trp health sciences | Text_b: t. rowe price health sciences fund | Label: True\n"
     ]
    }
   ],
   "source": [
    "for pred, example in zip(predictions, test_examples):\n",
    "    print('Text_a: %s | Text_b: %s | Label: %s'\n",
    "            % (example.text_a, example.text_b, True if pred['labels']==1 else False))"
   ]
  },
  {
   "cell_type": "code",
   "execution_count": 0,
   "metadata": {
    "colab": {},
    "colab_type": "code",
    "id": "FW1W_cQAZcOj"
   },
   "outputs": [],
   "source": []
  }
 ],
 "metadata": {
  "accelerator": "GPU",
  "colab": {
   "collapsed_sections": [],
   "name": "Q4.ipynb",
   "provenance": [],
   "version": "0.3.2"
  },
  "kernelspec": {
   "display_name": "Python 3",
   "language": "python",
   "name": "python3"
  },
  "language_info": {
   "codemirror_mode": {
    "name": "ipython",
    "version": 3
   },
   "file_extension": ".py",
   "mimetype": "text/x-python",
   "name": "python",
   "nbconvert_exporter": "python",
   "pygments_lexer": "ipython3",
   "version": "3.7.3"
  }
 },
 "nbformat": 4,
 "nbformat_minor": 1
}
