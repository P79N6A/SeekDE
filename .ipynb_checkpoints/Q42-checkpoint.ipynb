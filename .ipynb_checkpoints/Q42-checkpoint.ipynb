{
 "cells": [
  {
   "cell_type": "code",
   "execution_count": 1,
   "metadata": {
    "colab": {
     "base_uri": "https://localhost:8080/",
     "height": 128
    },
    "colab_type": "code",
    "id": "dRgEmxZL7-38",
    "outputId": "ab271e84-2e07-42ea-94e0-2ff63ce84049"
   },
   "outputs": [
    {
     "name": "stdout",
     "output_type": "stream",
     "text": [
      "Go to this URL in a browser: https://accounts.google.com/o/oauth2/auth?client_id=947318989803-6bn6qk8qdgf4n4g3pfee6491hc0brc4i.apps.googleusercontent.com&redirect_uri=urn%3Aietf%3Awg%3Aoauth%3A2.0%3Aoob&scope=email%20https%3A%2F%2Fwww.googleapis.com%2Fauth%2Fdocs.test%20https%3A%2F%2Fwww.googleapis.com%2Fauth%2Fdrive%20https%3A%2F%2Fwww.googleapis.com%2Fauth%2Fdrive.photos.readonly%20https%3A%2F%2Fwww.googleapis.com%2Fauth%2Fpeopleapi.readonly&response_type=code\n",
      "\n",
      "Enter your authorization code:\n",
      "··········\n",
      "Mounted at /content/gdrive\n"
     ]
    }
   ],
   "source": [
    "from google.colab import drive\n",
    "drive.mount('/content/gdrive')"
   ]
  },
  {
   "cell_type": "code",
   "execution_count": 0,
   "metadata": {
    "colab": {},
    "colab_type": "code",
    "id": "1IAYfDvI9SVs"
   },
   "outputs": [],
   "source": [
    "import os\n",
    "os.chdir('/content/gdrive/My Drive/seek')"
   ]
  },
  {
   "cell_type": "markdown",
   "metadata": {
    "colab_type": "text",
    "id": "df5QtKXdAbil"
   },
   "source": [
    "# Installing:\n",
    "- java\n",
    "- download spark-2.4.3\n",
    "- unzip spark\n",
    "- install findspark\n",
    "- redirect JAVA_HOME and SPARK_HOME dependencies"
   ]
  },
  {
   "cell_type": "code",
   "execution_count": 0,
   "metadata": {
    "colab": {},
    "colab_type": "code",
    "id": "hVu07r-R_dce"
   },
   "outputs": [],
   "source": [
    "!apt-get install openjdk-8-jdk-headless -qq > /dev/null\n",
    "!wget -q https://www-us.apache.org/dist/spark/spark-2.4.3/spark-2.4.3-bin-hadoop2.7.tgz\n",
    "!tar xf spark-2.4.3-bin-hadoop2.7.tgz\n",
    "!pip install -q findspark\n",
    "\n",
    "os.environ[\"JAVA_HOME\"] = \"/usr/lib/jvm/java-8-openjdk-amd64\"\n",
    "os.environ[\"SPARK_HOME\"] = \"/content/gdrive/My Drive/seek/spark-2.4.3-bin-hadoop2.7\""
   ]
  },
  {
   "cell_type": "markdown",
   "metadata": {},
   "source": [
    "# IGNORE ALL THE CELLS BEFORE THIS IF YOU ARE NOT RUNNING ON COLAB"
   ]
  },
  {
   "cell_type": "code",
   "execution_count": 1,
   "metadata": {
    "colab": {},
    "colab_type": "code",
    "id": "Wm9aLpEgAR_k"
   },
   "outputs": [],
   "source": [
    "import findspark\n",
    "findspark.init()"
   ]
  },
  {
   "cell_type": "code",
   "execution_count": 2,
   "metadata": {
    "colab": {},
    "colab_type": "code",
    "id": "IP5uQlnmBRrI",
    "scrolled": true
   },
   "outputs": [
    {
     "name": "stdout",
     "output_type": "stream",
     "text": [
      "Warning: Your Kaggle API key is readable by other users on this system! To fix this, you can run 'chmod 600 /home/koksang/Projects/SeekDE/kaggle.json'\n"
     ]
    }
   ],
   "source": [
    "import warnings\n",
    "import random\n",
    "import tqdm\n",
    "import spacy\n",
    "\n",
    "import pyspark as ps\n",
    "import numpy as np\n",
    "import pandas as pd\n",
    "import matplotlib.pyplot as plt\n",
    "\n",
    "from pyspark.sql import SparkSession\n",
    "from pyspark.sql.types import FloatType, IntegerType\n",
    "from pyspark.sql.functions import udf\n",
    "from pyspark.ml.feature import HashingTF, IDF, VectorAssembler, Tokenizer, OneHotEncoderEstimator\n",
    "from pyspark.ml import Pipeline\n",
    "from pyspark.ml.classification import LogisticRegression\n",
    "from pyspark.ml.evaluation import BinaryClassificationEvaluator\n",
    "from datetime import datetime\n",
    "from helpers import download_dataset"
   ]
  },
  {
   "cell_type": "markdown",
   "metadata": {},
   "source": [
    "# Initialize spark session\n",
    "Here I initialize a **`local`** server with **`number of workers`** equals to **`CPU cores counts`**"
   ]
  },
  {
   "cell_type": "code",
   "execution_count": 3,
   "metadata": {
    "colab": {},
    "colab_type": "code",
    "id": "S91JEif4BDrP"
   },
   "outputs": [],
   "source": [
    "spark = SparkSession.builder.master(\"local[*]\").getOrCreate()"
   ]
  },
  {
   "cell_type": "markdown",
   "metadata": {},
   "source": [
    "# Dataset source acquiring\n",
    "Here I **download** and **read** dataset in csv format"
   ]
  },
  {
   "cell_type": "code",
   "execution_count": 4,
   "metadata": {
    "colab": {},
    "colab_type": "code",
    "id": "IAbwcr_dFLAC"
   },
   "outputs": [
    {
     "name": "stdout",
     "output_type": "stream",
     "text": [
      "Warning: Your Kaggle API key is readable by other users on this system! To fix this, you can run 'chmod 600 /home/koksang/Projects/SeekDE/kaggle.json'\n"
     ]
    }
   ],
   "source": [
    "URL = 'https://www.kaggle.com/rishisankineni/text-similarity/data'\n",
    "DEST = './data'\n",
    "download_dataset(URL, './data')"
   ]
  },
  {
   "cell_type": "code",
   "execution_count": 5,
   "metadata": {
    "colab": {},
    "colab_type": "code",
    "id": "St6kXh9uFSPd"
   },
   "outputs": [],
   "source": [
    "train_df = spark.read.csv('./data/%s' % 'train.csv', encoding='utf-8', header=True, inferSchema=True)\n",
    "test_df = spark.read.csv('./data/%s' % 'test.csv', encoding='utf-8', header=True, inferSchema=True)"
   ]
  },
  {
   "cell_type": "markdown",
   "metadata": {},
   "source": [
    "# Visualization\n",
    "### Visualizing dataset labels"
   ]
  },
  {
   "cell_type": "code",
   "execution_count": 6,
   "metadata": {
    "colab": {
     "base_uri": "https://localhost:8080/",
     "height": 474
    },
    "colab_type": "code",
    "id": "JcQLOCmEFTuK",
    "outputId": "ff49fe7f-d73b-42dd-98fc-4f3b8ec84522"
   },
   "outputs": [
    {
     "name": "stdout",
     "output_type": "stream",
     "text": [
      "+---+--------------------+--------------------+--------+--------+-------------+\n",
      "|_c0|       description_x|       description_y|ticker_x|ticker_y|same_security|\n",
      "+---+--------------------+--------------------+--------+--------+-------------+\n",
      "|  0|first trust dow j...|first trust dj in...|     FDN|     FDN|         true|\n",
      "|  1|schwab intl large...|schwab strategic ...|    FNDF|    FNDF|         true|\n",
      "|  2|vanguard small ca...|vanguard small-ca...|   VSMAX|   VSCIX|        false|\n",
      "|  3|duke energy corp ...|duke energy corp ...|     DUK|     DUK|         true|\n",
      "|  4|    visa inc class a|           visa inc.|       V|       V|         true|\n",
      "+---+--------------------+--------------------+--------+--------+-------------+\n",
      "only showing top 5 rows\n",
      "\n",
      "None\n"
     ]
    },
    {
     "data": {
      "image/png": "[encoded data removed]",
      "text/plain": [
       "<Figure size 432x288 with 1 Axes>"
      ]
     },
     "metadata": {},
     "output_type": "display_data"
    }
   ],
   "source": [
    "print(train_df.show(5))\n",
    "\n",
    "labels = [True, False]\n",
    "sizes = [train_df[train_df.same_security==True].count(), train_df[train_df.same_security==False].count()]\n",
    "\n",
    "plt.pie(sizes, labels=labels)\n",
    "plt.show()"
   ]
  },
  {
   "cell_type": "markdown",
   "metadata": {},
   "source": [
    "# Text Preprocessing\n",
    "\n",
    "**Preprocessing stages:**\n",
    "1. Tokenization\n",
    "2. Lemmatization\n",
    "3. Remove stopwords\n",
    "4. Cosine similarity with spacy"
   ]
  },
  {
   "cell_type": "code",
   "execution_count": 7,
   "metadata": {
    "colab": {},
    "colab_type": "code",
    "id": "GlPxg_ttFkZF"
   },
   "outputs": [],
   "source": [
    "nlp = spacy.load('en_core_web_sm')"
   ]
  },
  {
   "cell_type": "code",
   "execution_count": 8,
   "metadata": {
    "colab": {},
    "colab_type": "code",
    "id": "fu1-Cut2ZwHl"
   },
   "outputs": [],
   "source": [
    "def tokenize(text):\n",
    "    return nlp(text.lower())\n",
    "\n",
    "def lemmatization(token):\n",
    "    return token.lemma_\n",
    "\n",
    "def process(tokens):\n",
    "    return ' '.join([lemmatization(token) for token in tokens\n",
    "                    if not token.is_stop])\n",
    "\n",
    "def clean_sentence(text):\n",
    "    sentence = tokenize(text)\n",
    "    sentence = process(sentence)\n",
    "    return sentence\n",
    "\n",
    "def get_similarity(text_a, text_b):\n",
    "    base = nlp(clean_sentence(text_a))\n",
    "    compare = nlp(clean_sentence(text_b))\n",
    "    return float(base.similarity(compare))\n",
    "\n",
    "similarity_score = udf(lambda x, y: get_similarity(x, y), FloatType())"
   ]
  },
  {
   "cell_type": "code",
   "execution_count": 9,
   "metadata": {
    "colab": {
     "base_uri": "https://localhost:8080/",
     "height": 217
    },
    "colab_type": "code",
    "id": "4JNoLQ1Tc4YJ",
    "outputId": "54c565c0-44e3-4b2c-b4fe-d11dd2f000a9"
   },
   "outputs": [
    {
     "name": "stdout",
     "output_type": "stream",
     "text": [
      "+---+--------------------+--------------------+--------+--------+-------------+----------+\n",
      "|_c0|       description_x|       description_y|ticker_x|ticker_y|same_security|similarity|\n",
      "+---+--------------------+--------------------+--------+--------+-------------+----------+\n",
      "|  0|first trust dow j...|first trust dj in...|     FDN|     FDN|         true| 0.7705274|\n",
      "|  1|schwab intl large...|schwab strategic ...|    FNDF|    FNDF|         true| 0.8693826|\n",
      "|  2|vanguard small ca...|vanguard small-ca...|   VSMAX|   VSCIX|        false| 0.9072185|\n",
      "|  3|duke energy corp ...|duke energy corp ...|     DUK|     DUK|         true| 0.9512736|\n",
      "|  4|    visa inc class a|           visa inc.|       V|       V|         true| 0.7334155|\n",
      "+---+--------------------+--------------------+--------+--------+-------------+----------+\n",
      "only showing top 5 rows\n",
      "\n"
     ]
    }
   ],
   "source": [
    "train_df = train_df.withColumn('similarity', similarity_score(train_df.description_x, train_df.description_y))\n",
    "train_df.show(5)"
   ]
  },
  {
   "cell_type": "markdown",
   "metadata": {
    "colab_type": "text",
    "id": "EELm1Hz-KM0J"
   },
   "source": [
    "# Matching\n",
    "**Notes:**\n",
    "1. Don't need to remove stopwords or stemming anymore since it was done before this.\n",
    "2. Do need to tokenize the text again\n"
   ]
  },
  {
   "cell_type": "code",
   "execution_count": 10,
   "metadata": {
    "colab": {},
    "colab_type": "code",
    "id": "FgrcFuD06wjZ"
   },
   "outputs": [],
   "source": [
    "cols = ['description_x', 'description_y']\n",
    "tags = ['x', 'y']\n",
    "process = []\n",
    "\n",
    "for col, tag in zip(cols, tags):\n",
    "    tokenizer = Tokenizer(inputCol=col, outputCol='token_%s'%tag)\n",
    "    hashing = HashingTF(inputCol='token_%s'%tag, outputCol='raw_%s'%tag)\n",
    "    idf = IDF(inputCol='raw_%s'%tag, outputCol='features_%s'%tag)\n",
    "    process.extend([tokenizer, hashing, idf])"
   ]
  },
  {
   "cell_type": "code",
   "execution_count": 11,
   "metadata": {
    "colab": {},
    "colab_type": "code",
    "id": "1NquuT-UVKDr"
   },
   "outputs": [],
   "source": [
    "pipeline = Pipeline(stages=process)\n",
    "train = pipeline.fit(train_df).transform(train_df).select('features_x', 'features_y', 'similarity','same_security')"
   ]
  },
  {
   "cell_type": "code",
   "execution_count": 12,
   "metadata": {
    "colab": {
     "base_uri": "https://localhost:8080/",
     "height": 490
    },
    "colab_type": "code",
    "id": "dDIY7v5mD54K",
    "outputId": "0741d048-fd68-4bb4-87b0-156b015edbe5"
   },
   "outputs": [
    {
     "name": "stdout",
     "output_type": "stream",
     "text": [
      "+--------------------+--------------------+----------+-------------+\n",
      "|          features_x|          features_y|similarity|same_security|\n",
      "+--------------------+--------------------+----------+-------------+\n",
      "|(262144,[31407,82...|(262144,[82111,13...| 0.7705274|         true|\n",
      "|(262144,[7488,331...|(262144,[7488,818...| 0.8693826|         true|\n",
      "|(262144,[199777,2...|(262144,[41785,20...| 0.9072185|        false|\n",
      "|(262144,[29945,76...|(262144,[27466,29...| 0.9512736|         true|\n",
      "|(262144,[19862,51...|(262144,[51818,18...| 0.7334155|         true|\n",
      "|(262144,[29945,87...|(262144,[87927,11...|0.86081916|         true|\n",
      "|(262144,[60697,16...|(262144,[9786,654...|0.55694205|         true|\n",
      "|(262144,[7488,422...|(262144,[7488,136...|0.88702273|         true|\n",
      "|(262144,[21872,28...|(262144,[7488,218...| 0.7812148|         true|\n",
      "|(262144,[6615,244...|(262144,[24417,11...| 0.8243693|         true|\n",
      "|(262144,[19862,45...|(262144,[6615,697...|0.73696166|         true|\n",
      "|(262144,[141607,1...|(262144,[141607,1...|0.86659396|         true|\n",
      "|(262144,[7488,422...|(262144,[42239,42...|0.86698264|         true|\n",
      "|(262144,[408,3318...|(262144,[408,8792...|0.86926603|         true|\n",
      "|(262144,[21028,13...|(262144,[2858,675...|0.85706484|        false|\n",
      "|(262144,[36691,80...|(262144,[76218,11...| 0.9289792|         true|\n",
      "|(262144,[66046,15...|(262144,[66046,15...| 0.9526757|         true|\n",
      "|(262144,[34916,12...|(262144,[34916,23...|0.58312565|         true|\n",
      "|(262144,[92464,19...|(262144,[92464,10...| 0.8054261|         true|\n",
      "|(262144,[21028,13...|(262144,[136243,1...|0.95101106|        false|\n",
      "+--------------------+--------------------+----------+-------------+\n",
      "only showing top 20 rows\n",
      "\n"
     ]
    }
   ],
   "source": [
    "train.show()"
   ]
  },
  {
   "cell_type": "code",
   "execution_count": 13,
   "metadata": {
    "colab": {
     "base_uri": "https://localhost:8080/",
     "height": 490
    },
    "colab_type": "code",
    "id": "Iw7v-ExgPFfW",
    "outputId": "eec59a59-36d7-410a-87c2-6e641b85ae0e"
   },
   "outputs": [
    {
     "name": "stdout",
     "output_type": "stream",
     "text": [
      "+--------------------+-------------+\n",
      "|            features|same_security|\n",
      "+--------------------+-------------+\n",
      "|(524288,[31407,82...|         true|\n",
      "|(524288,[7488,331...|         true|\n",
      "|(524288,[199777,2...|        false|\n",
      "|(524288,[29945,76...|         true|\n",
      "|(524288,[19862,51...|         true|\n",
      "|(524288,[29945,87...|         true|\n",
      "|(524288,[60697,16...|         true|\n",
      "|(524288,[7488,422...|         true|\n",
      "|(524288,[21872,28...|         true|\n",
      "|(524288,[6615,244...|         true|\n",
      "|(524288,[19862,45...|         true|\n",
      "|(524288,[141607,1...|         true|\n",
      "|(524288,[7488,422...|         true|\n",
      "|(524288,[408,3318...|         true|\n",
      "|(524288,[21028,13...|        false|\n",
      "|(524288,[36691,80...|         true|\n",
      "|(524288,[66046,15...|         true|\n",
      "|(524288,[34916,12...|         true|\n",
      "|(524288,[92464,19...|         true|\n",
      "|(524288,[21028,13...|        false|\n",
      "+--------------------+-------------+\n",
      "only showing top 20 rows\n",
      "\n"
     ]
    }
   ],
   "source": [
    "assembler = VectorAssembler(inputCols=['features_x', 'features_y',],\n",
    "                            outputCol='features')\n",
    "train_data = assembler.transform(train).select('features', 'same_security')\n",
    "train_data.show()"
   ]
  },
  {
   "cell_type": "code",
   "execution_count": 14,
   "metadata": {
    "colab": {
     "base_uri": "https://localhost:8080/",
     "height": 217
    },
    "colab_type": "code",
    "id": "Gg1wHoPmb2vh",
    "outputId": "13ab20d8-6132-4271-d8f8-be77bced3388"
   },
   "outputs": [
    {
     "name": "stdout",
     "output_type": "stream",
     "text": [
      "+--------------------+-----+\n",
      "|            features|label|\n",
      "+--------------------+-----+\n",
      "|(524288,[31407,82...|    1|\n",
      "|(524288,[7488,331...|    1|\n",
      "|(524288,[199777,2...|    0|\n",
      "|(524288,[29945,76...|    1|\n",
      "|(524288,[19862,51...|    1|\n",
      "+--------------------+-----+\n",
      "only showing top 5 rows\n",
      "\n"
     ]
    }
   ],
   "source": [
    "def make_integer(input):\n",
    "    return int(input)\n",
    "\n",
    "make = udf(make_integer, IntegerType())\n",
    "\n",
    "train_data = train_data.withColumn('label', make(train_data.same_security)).select('features', 'label')\n",
    "train_data.show(5)"
   ]
  },
  {
   "cell_type": "markdown",
   "metadata": {},
   "source": [
    "# Training\n",
    "Training using **`logistic regression`** model"
   ]
  },
  {
   "cell_type": "code",
   "execution_count": 15,
   "metadata": {
    "colab": {
     "base_uri": "https://localhost:8080/",
     "height": 758
    },
    "colab_type": "code",
    "id": "BiEIR27OgMgS",
    "outputId": "e8034da0-d39c-4616-d8d0-49beac3bbe27"
   },
   "outputs": [],
   "source": [
    "lr = LogisticRegression(featuresCol='features', labelCol='label', maxIter=20)\n",
    "lrModel = lr.fit(train_data)"
   ]
  },
  {
   "cell_type": "markdown",
   "metadata": {
    "colab": {},
    "colab_type": "code",
    "id": "lmyxv40mwb30"
   },
   "source": [
    "# Predicting\n",
    "1. Preprocess and transform test data\n",
    "2. Make predictions"
   ]
  },
  {
   "cell_type": "code",
   "execution_count": 16,
   "metadata": {
    "scrolled": true
   },
   "outputs": [
    {
     "name": "stdout",
     "output_type": "stream",
     "text": [
      "+-------+--------------------+--------------------+-------------+----------+\n",
      "|test_id|       description_x|       description_y|same_security|similarity|\n",
      "+-------+--------------------+--------------------+-------------+----------+\n",
      "|      0|        semtech corp| semtech corporation|         null| 0.8337346|\n",
      "|      1|vanguard mid cap ...|vanguard midcap i...|         null| 0.7275068|\n",
      "|      2|spdr gold trust g...|spdr gold trust s...|         null|0.98276025|\n",
      "|      3|vanguard total bo...|vanguard total bo...|         null| 0.9672633|\n",
      "|      4|oakmark internati...|oakmark internati...|         null| 0.7893129|\n",
      "+-------+--------------------+--------------------+-------------+----------+\n",
      "only showing top 5 rows\n",
      "\n"
     ]
    }
   ],
   "source": [
    "test_df = test_df.withColumn('similarity', similarity_score(test_df.description_x, test_df.description_y))\n",
    "test_df.show(5)"
   ]
  },
  {
   "cell_type": "markdown",
   "metadata": {},
   "source": [
    "# Preprocess pipeline\n",
    "I reuse the same pipeline to transform test data"
   ]
  },
  {
   "cell_type": "code",
   "execution_count": 17,
   "metadata": {},
   "outputs": [
    {
     "name": "stdout",
     "output_type": "stream",
     "text": [
      "+--------------------+--------------------+----------+\n",
      "|          features_x|          features_y|similarity|\n",
      "+--------------------+--------------------+----------+\n",
      "|(262144,[192827,2...|(262144,[147689,2...| 0.8337346|\n",
      "|(262144,[154638,1...|(262144,[45531,97...| 0.7275068|\n",
      "|(262144,[138702,1...|(262144,[138702,1...|0.98276025|\n",
      "|(262144,[136243,2...|(262144,[136243,1...| 0.9672633|\n",
      "|(262144,[19862,24...|(262144,[24417,42...| 0.7893129|\n",
      "|(262144,[11419,15...|(262144,[11419,15...|0.80925083|\n",
      "|(262144,[21872,32...|(262144,[8450,614...|0.81121624|\n",
      "|(262144,[136243,1...|(262144,[136243,1...|  0.901777|\n",
      "|(262144,[17222,19...|(262144,[89521,10...|0.81285256|\n",
      "|(262144,[107357,1...|(262144,[104487,1...|0.77077806|\n",
      "|(262144,[170698,1...|(262144,[45224,15...| 0.8364161|\n",
      "|(262144,[67203,15...|(262144,[67203,10...|0.83405143|\n",
      "|(262144,[29945,54...|(262144,[28698,29...| 0.7616935|\n",
      "|(262144,[7594,169...|(262144,[7594,844...|0.81957406|\n",
      "|(262144,[207303,2...|(262144,[41785,20...| 0.9503941|\n",
      "|(262144,[45224,16...|(262144,[80795,16...| 0.7110175|\n",
      "|(262144,[3778,748...|(262144,[3778,163...|0.76909626|\n",
      "|(262144,[154736,2...|(262144,[154736,2...|0.89810705|\n",
      "|(262144,[33182,48...|(262144,[48525,87...|0.37732297|\n",
      "|(262144,[132847,2...|(262144,[96318,99...| 0.9170112|\n",
      "+--------------------+--------------------+----------+\n",
      "only showing top 20 rows\n",
      "\n"
     ]
    }
   ],
   "source": [
    "pipeline2 = Pipeline(stages=process)\n",
    "test = pipeline.fit(test_df).transform(test_df).select('features_x', 'features_y', 'similarity')\n",
    "test.show()"
   ]
  },
  {
   "cell_type": "code",
   "execution_count": 18,
   "metadata": {},
   "outputs": [
    {
     "name": "stdout",
     "output_type": "stream",
     "text": [
      "+--------------------+\n",
      "|            features|\n",
      "+--------------------+\n",
      "|(524288,[192827,2...|\n",
      "|(524288,[154638,1...|\n",
      "|(524288,[138702,1...|\n",
      "|(524288,[136243,2...|\n",
      "|(524288,[19862,24...|\n",
      "|(524288,[11419,15...|\n",
      "|(524288,[21872,32...|\n",
      "|(524288,[136243,1...|\n",
      "|(524288,[17222,19...|\n",
      "|(524288,[107357,1...|\n",
      "|(524288,[170698,1...|\n",
      "|(524288,[67203,15...|\n",
      "|(524288,[29945,54...|\n",
      "|(524288,[7594,169...|\n",
      "|(524288,[207303,2...|\n",
      "|(524288,[45224,16...|\n",
      "|(524288,[3778,748...|\n",
      "|(524288,[154736,2...|\n",
      "|(524288,[33182,48...|\n",
      "|(524288,[132847,2...|\n",
      "+--------------------+\n",
      "only showing top 20 rows\n",
      "\n"
     ]
    }
   ],
   "source": [
    "assembler = VectorAssembler(inputCols=['features_x', 'features_y',],\n",
    "                            outputCol='features')\n",
    "test_data = assembler.transform(test).select('features')\n",
    "test_data.show()"
   ]
  },
  {
   "cell_type": "markdown",
   "metadata": {},
   "source": [
    "# Make Predictions\n",
    "Making predictions with the previous logistic regression model trained"
   ]
  },
  {
   "cell_type": "code",
   "execution_count": 19,
   "metadata": {},
   "outputs": [],
   "source": [
    "predictions = lrModel.transform(test_data)"
   ]
  },
  {
   "cell_type": "code",
   "execution_count": 20,
   "metadata": {},
   "outputs": [
    {
     "name": "stdout",
     "output_type": "stream",
     "text": [
      "+--------------------+--------------------+--------------------+----------+\n",
      "|            features|       rawPrediction|         probability|prediction|\n",
      "+--------------------+--------------------+--------------------+----------+\n",
      "|(524288,[192827,2...|[-12.203458591277...|[5.01306223843987...|       1.0|\n",
      "|(524288,[154638,1...|[-45.324194465176...|[2.06991469173215...|       1.0|\n",
      "|(524288,[138702,1...|[-20.918295507132...|[8.22810244083879...|       1.0|\n",
      "|(524288,[136243,2...|[3.90017225605763...|[0.98016304379523...|       0.0|\n",
      "|(524288,[19862,24...|[-62.203055682353...|[9.67288800935395...|       1.0|\n",
      "|(524288,[11419,15...|[-10.511654883421...|[2.72166374573788...|       1.0|\n",
      "|(524288,[21872,32...|[25.6193390363561...|[0.99999999999252...|       0.0|\n",
      "|(524288,[136243,1...|[9.92631883046867...|[0.99995113101912...|       0.0|\n",
      "|(524288,[17222,19...|[-29.984067818469...|[9.50790429247304...|       1.0|\n",
      "|(524288,[107357,1...|[-44.023648915265...|[7.59927573416826...|       1.0|\n",
      "|(524288,[170698,1...|[-29.691054059493...|[1.27449771175818...|       1.0|\n",
      "|(524288,[67203,15...|[-19.994121462186...|[2.07330587139280...|       1.0|\n",
      "|(524288,[29945,54...|[-26.342736560845...|[3.62656005264831...|       1.0|\n",
      "|(524288,[7594,169...|[-24.290487262738...|[2.82341955973575...|       1.0|\n",
      "|(524288,[207303,2...|[14.0987032997684...|[0.99999924662600...|       0.0|\n",
      "|(524288,[45224,16...|[-18.492370126580...|[9.30819971103033...|       1.0|\n",
      "|(524288,[3778,748...|[-47.171563570876...|[3.26324918651134...|       1.0|\n",
      "|(524288,[154736,2...|[-14.871292920400...|[3.47920000116893...|       1.0|\n",
      "|(524288,[33182,48...|[-18.774476547495...|[7.02018297442060...|       1.0|\n",
      "|(524288,[132847,2...|[-26.005726040660...|[5.07991777412258...|       1.0|\n",
      "+--------------------+--------------------+--------------------+----------+\n",
      "only showing top 20 rows\n",
      "\n"
     ]
    }
   ],
   "source": [
    "predictions.show()"
   ]
  },
  {
   "cell_type": "code",
   "execution_count": 21,
   "metadata": {},
   "outputs": [
    {
     "data": {
      "text/plain": [
       "[name: \"/device:CPU:0\"\n",
       " device_type: \"CPU\"\n",
       " memory_limit: 268435456\n",
       " locality {\n",
       " }\n",
       " incarnation: 14551449095094643786, name: \"/device:XLA_CPU:0\"\n",
       " device_type: \"XLA_CPU\"\n",
       " memory_limit: 17179869184\n",
       " locality {\n",
       " }\n",
       " incarnation: 8769813277714228220\n",
       " physical_device_desc: \"device: XLA_CPU device\", name: \"/device:XLA_GPU:0\"\n",
       " device_type: \"XLA_GPU\"\n",
       " memory_limit: 17179869184\n",
       " locality {\n",
       " }\n",
       " incarnation: 7465928914263027019\n",
       " physical_device_desc: \"device: XLA_GPU device\", name: \"/device:GPU:0\"\n",
       " device_type: \"GPU\"\n",
       " memory_limit: 1164902400\n",
       " locality {\n",
       "   bus_id: 1\n",
       "   links {\n",
       "   }\n",
       " }\n",
       " incarnation: 4496173769908415767\n",
       " physical_device_desc: \"device: 0, name: GeForce GTX 1050, pci bus id: 0000:0b:00.0, compute capability: 6.1\"]"
      ]
     },
     "execution_count": 21,
     "metadata": {},
     "output_type": "execute_result"
    }
   ],
   "source": [
    "from tensorflow.python.client import device_lib\n",
    "device_lib.list_local_devices()"
   ]
  },
  {
   "cell_type": "code",
   "execution_count": 22,
   "metadata": {},
   "outputs": [
    {
     "data": {
      "text/plain": [
       "'2.0.0-beta1'"
      ]
     },
     "execution_count": 22,
     "metadata": {},
     "output_type": "execute_result"
    }
   ],
   "source": [
    "import tensorflow as tf\n",
    "\n",
    "tf.__version__"
   ]
  },
  {
   "cell_type": "code",
   "execution_count": 36,
   "metadata": {},
   "outputs": [],
   "source": [
    "import sparkdl\n",
    "\n",
    "import tensorflow as tf\n",
    "import tensorflow_hub as hub\n",
    "\n",
    "from tensorflow import keras\n",
    "from tqdm import tqdm_notebook\n",
    "from sparkdl import TFTransformer\n",
    "from bert import BertModelLayer\n",
    "from bert.loader import StockBertConfig, load_stock_weights"
   ]
  },
  {
   "cell_type": "code",
   "execution_count": 139,
   "metadata": {},
   "outputs": [
    {
     "name": "stdout",
     "output_type": "stream",
     "text": [
      "--2019-07-17 22:42:58--  https://storage.googleapis.com/bert_models/2018_10_18/uncased_L-12_H-768_A-12.zip\n",
      "Resolving storage.googleapis.com (storage.googleapis.com)... 172.217.31.112, 2404:6800:4001:801::2010\n",
      "Connecting to storage.googleapis.com (storage.googleapis.com)|172.217.31.112|:443... connected.\n",
      "HTTP request sent, awaiting response... 200 OK\n",
      "Length: 407727028 (389M) [application/zip]\n",
      "Saving to: ‘./model/uncased_L-12_H-768_A-12.zip’\n",
      "\n",
      "./model/uncased_L-1 100%[===================>] 388.84M  1.88MB/s    in 3m 27s  \n",
      "\n",
      "2019-07-17 22:46:25 (1.88 MB/s) - ‘./model/uncased_L-12_H-768_A-12.zip’ saved [407727028/407727028]\n",
      "\n",
      "Archive:  ./model/uncased_L-12_H-768_A-12.zip\n",
      "   creating: ./model/uncased_L-12_H-768_A-12/\n",
      "  inflating: ./model/uncased_L-12_H-768_A-12/bert_model.ckpt.meta  \n",
      "  inflating: ./model/uncased_L-12_H-768_A-12/bert_model.ckpt.data-00000-of-00001  \n",
      "  inflating: ./model/uncased_L-12_H-768_A-12/vocab.txt  \n",
      "  inflating: ./model/uncased_L-12_H-768_A-12/bert_model.ckpt.index  \n",
      "  inflating: ./model/uncased_L-12_H-768_A-12/bert_config.json  \n"
     ]
    }
   ],
   "source": [
    "!wget https://storage.googleapis.com/bert_models/2018_10_18/uncased_L-12_H-768_A-12.zip -O ./model/uncased_L-12_H-768_A-12.zip\n",
    "!unzip ./model/uncased_L-12_H-768_A-12.zip -d ./model/"
   ]
  },
  {
   "cell_type": "code",
   "execution_count": 40,
   "metadata": {},
   "outputs": [],
   "source": [
    "MODEL_DIR = \"./model/uncased_L-12_H-768_A-12\"\n",
    "BERT_VOCAB = './model/uncased_L-12_H-768_A-12/vocab.txt'\n",
    "BERT_INIT_CHKPNT = './model/uncased_L-12_H-768_A-12/bert_model.ckpt'\n",
    "BERT_CONFIG = './model/uncased_L-12_H-768_A-12/bert_config.json'\n",
    "OUTPUT_DIR = './output'"
   ]
  },
  {
   "cell_type": "code",
   "execution_count": 45,
   "metadata": {},
   "outputs": [],
   "source": [
    "with tf.io.gfile.GFile(BERT_CONFIG, \"r\") as reader:\n",
    "    stock_params = StockBertConfig.from_json_string(reader.read())\n",
    "    bert_params  = stock_params.to_bert_model_layer_params()\n",
    "    l_bert = BertModelLayer.from_params(bert_params, name=\"bert\")"
   ]
  },
  {
   "cell_type": "code",
   "execution_count": 48,
   "metadata": {},
   "outputs": [],
   "source": [
    "l_bert = None\n",
    "with tf.io.gfile.GFile(BERT_CONFIG, \"r\") as reader:\n",
    "    bc = StockBertConfig.from_json_string(reader.read())\n",
    "    l_bert = BertModelLayer.from_params(bc.to_bert_model_layer_params(), name=\"bert\")"
   ]
  },
  {
   "cell_type": "code",
   "execution_count": 49,
   "metadata": {},
   "outputs": [],
   "source": [
    "BATCH_SIZE = 32\n",
    "LEARNING_RATE = 2e-5\n",
    "EPOCHS = 3\n",
    "MAX_SEQ_LENGTH = 30\n",
    "\n",
    "WARMUP_PROPORTION = 0.1\n",
    "# Model configs\n",
    "SAVE_CHECKPOINT_STEPS = 2000\n",
    "SAVE_SUMMARY_STEPS = 1000"
   ]
  },
  {
   "cell_type": "code",
   "execution_count": 52,
   "metadata": {},
   "outputs": [],
   "source": [
    "l_input_ids      = keras.layers.Input(shape=(MAX_SEQ_LENGTH,), dtype='int32', name=\"input_ids\")\n",
    "l_token_type_ids = keras.layers.Input(shape=(MAX_SEQ_LENGTH,), dtype='int32', name=\"token_type_ids\")\n",
    "output = l_bert([l_input_ids, l_token_type_ids])"
   ]
  },
  {
   "cell_type": "code",
   "execution_count": null,
   "metadata": {},
   "outputs": [],
   "source": []
  }
 ],
 "metadata": {
  "accelerator": "GPU",
  "colab": {
   "collapsed_sections": [],
   "name": "Q4.ipynb",
   "provenance": [],
   "toc_visible": true,
   "version": "0.3.2"
  },
  "kernelspec": {
   "display_name": "Python 3",
   "language": "python",
   "name": "python3"
  },
  "language_info": {
   "codemirror_mode": {
    "name": "ipython",
    "version": 3
   },
   "file_extension": ".py",
   "mimetype": "text/x-python",
   "name": "python",
   "nbconvert_exporter": "python",
   "pygments_lexer": "ipython3",
   "version": "3.7.3"
  }
 },
 "nbformat": 4,
 "nbformat_minor": 1
}
