{
 "cells": [
  {
   "cell_type": "code",
   "execution_count": 1,
   "metadata": {},
   "outputs": [
    {
     "name": "stdout",
     "output_type": "stream",
     "text": [
      "Warning: Your Kaggle API key is readable by other users on this system! To fix this, you can run 'chmod 600 /home/koksang/Projects/seek/kaggle.json'\n"
     ]
    },
    {
     "data": {
      "application/vnd.jupyter.widget-view+json": {
       "model_id": "a93b79f70f8749b0a3675bba910f234a",
       "version_major": 2,
       "version_minor": 0
      },
      "text/plain": [
       "HBox(children=(IntProgress(value=1, bar_style='info', max=1), HTML(value='')))"
      ]
     },
     "metadata": {},
     "output_type": "display_data"
    },
    {
     "name": "stdout",
     "output_type": "stream",
     "text": [
      "\n"
     ]
    }
   ],
   "source": [
    "import os\n",
    "import re\n",
    "import spacy\n",
    "import nltk\n",
    "\n",
    "import numpy as np\n",
    "import pandas as pd\n",
    "import matplotlib.pyplot as plt\n",
    "\n",
    "from tqdm import tqdm, tqdm_notebook\n",
    "from datetime import datetime\n",
    "from nltk.tokenize import word_tokenize\n",
    "from helpers import download_dataset, S3Client\n",
    "\n",
    "tqdm_notebook().pandas()"
   ]
  },
  {
   "cell_type": "code",
   "execution_count": 2,
   "metadata": {},
   "outputs": [
    {
     "name": "stdout",
     "output_type": "stream",
     "text": [
      "Warning: Your Kaggle API key is readable by other users on this system! To fix this, you can run 'chmod 600 /home/koksang/Projects/seek/kaggle.json'\n"
     ]
    }
   ],
   "source": [
    "URL = 'https://www.kaggle.com/rishisankineni/text-similarity/data'\n",
    "DEST = './data'\n",
    "download_dataset(URL, './data')\n",
    "df = pd.read_csv('./data/%s' % 'data job posts.csv', encoding='utf-8')"
   ]
  },
  {
   "cell_type": "markdown",
   "metadata": {},
   "source": [
    "# Cleaning\n",
    "1. Text cleaning functions\n",
    "2. Make dict function"
   ]
  },
  {
   "cell_type": "code",
   "execution_count": 3,
   "metadata": {},
   "outputs": [],
   "source": [
    "def clean(text):\n",
    "    # to remove newline\n",
    "    newline_spam = r'([\\s]*)(\\r\\n)([^-])'\n",
    "    # to remove spaces\n",
    "    space_spam = r'([ ]{2,}|[\\s]{3,})'\n",
    "    # to remove tail in every jobposts\n",
    "    tail = r'([\\s]+[-]{2,})'\n",
    "    cleaned = re.sub(newline_spam, r'\\1 \\3',\n",
    "                     text).strip(' ').replace(';', '.')\n",
    "    cleaned = re.sub(space_spam, ' ', cleaned)\n",
    "    cleaned = re.split(tail, cleaned)[0].strip()\n",
    "    return cleaned\n",
    "\n",
    "def clean_key(text):\n",
    "    return re.sub(r'[\\s]+', ' ', text).strip()\n",
    "\n",
    "def make_dict(text):\n",
    "    # split the jobpost with colons comes after upper alphabets\n",
    "    pattern = r'\\r\\n([A-Z\\s]+):'\n",
    "    data = re.split(pattern, text)\n",
    "    # make key for company name\n",
    "    info = {'COMPANY': data[0]}\n",
    "    info.update({clean_key(data[i]):clean(data[i+1]) \n",
    "                 for i in range(1, len(data), 2)})\n",
    "    return info"
   ]
  },
  {
   "cell_type": "markdown",
   "metadata": {},
   "source": [
    "# Make a new Dictionary for Jobpost\n",
    "Loop thru jobpost column and create a dict using make_dict()"
   ]
  },
  {
   "cell_type": "code",
   "execution_count": 4,
   "metadata": {},
   "outputs": [],
   "source": [
    "jobpost = [make_dict(job) for job in df.jobpost]"
   ]
  },
  {
   "cell_type": "code",
   "execution_count": 5,
   "metadata": {},
   "outputs": [],
   "source": [
    "# columns required for jobpost df\n",
    "COLS = ['JOB_TITLE', 'POSITION_DURATION', 'POSITION_LOCATION',\n",
    "           'JOB_DESCRIPTION', 'JOB_RESPONSIBILITIES',\n",
    "           'REQUIRED_QUALIFICATIONS', 'REMUNERATION',\n",
    "           'APPLICATION_DEADLINE', 'ABOUT_COMPANY']\n",
    "\n",
    "# re pattern for normalizing jobpost df columns\n",
    "PATTERNS = ['JOB TITLE|TITLE$', 'POSITION DURATION|DURATION$',\n",
    "           'POSITION LOCATION|LOCATION$',\n",
    "           'JOB DESCRIPTION|DESCRIPTION$',\n",
    "           'JOB RESPONSIBILITIES|RESPONSIBILITIES$',\n",
    "           'REQUIRED QUALIFICATIONS|QUALIFICATIONS$',\n",
    "           'REMUNERATION$',\n",
    "           'APPLICATION DEADLINE|DEADLINE$',\n",
    "           'ABOUT COMPANY']\n",
    "\n",
    "# create df for jobpost dict\n",
    "jobpost_df = pd.DataFrame(jobpost)\n",
    "\n",
    "def normalize_df(df, cols=COLS, patterns=PATTERNS):\n",
    "    df = df.fillna(value='')\n",
    "    new_df = pd.DataFrame(columns=cols)\n",
    "    # normalizing column names with similar meanings\n",
    "    for col, pattern in zip(cols, patterns):\n",
    "        selected = df.filter(regex=pattern).columns\n",
    "        new_df[col] = df[selected[0]].str.cat(df[selected[1:]], \n",
    "                                         sep=' ')\n",
    "        new_df = new_df.apply(lambda x: x.str.strip(' '))\n",
    "    return new_df"
   ]
  },
  {
   "cell_type": "markdown",
   "metadata": {},
   "source": [
    "# Update new jobpost_df with cleaned and normalized columns"
   ]
  },
  {
   "cell_type": "code",
   "execution_count": 6,
   "metadata": {},
   "outputs": [
    {
     "data": {
      "text/html": [
       "<div>\n",
       "<style scoped>\n",
       "    .dataframe tbody tr th:only-of-type {\n",
       "        vertical-align: middle;\n",
       "    }\n",
       "\n",
       "    .dataframe tbody tr th {\n",
       "        vertical-align: top;\n",
       "    }\n",
       "\n",
       "    .dataframe thead th {\n",
       "        text-align: right;\n",
       "    }\n",
       "</style>\n",
       "<table border=\"1\" class=\"dataframe\">\n",
       "  <thead>\n",
       "    <tr style=\"text-align: right;\">\n",
       "      <th></th>\n",
       "      <th>JOB_TITLE</th>\n",
       "      <th>POSITION_DURATION</th>\n",
       "      <th>POSITION_LOCATION</th>\n",
       "      <th>JOB_DESCRIPTION</th>\n",
       "      <th>JOB_RESPONSIBILITIES</th>\n",
       "      <th>REQUIRED_QUALIFICATIONS</th>\n",
       "      <th>REMUNERATION</th>\n",
       "      <th>APPLICATION_DEADLINE</th>\n",
       "      <th>ABOUT_COMPANY</th>\n",
       "    </tr>\n",
       "  </thead>\n",
       "  <tbody>\n",
       "    <tr>\n",
       "      <th>0</th>\n",
       "      <td>Chief Financial Officer</td>\n",
       "      <td></td>\n",
       "      <td>Yerevan, Armenia</td>\n",
       "      <td>AMERIA Investment Consulting Company is seekin...</td>\n",
       "      <td>- Supervises financial management and administ...</td>\n",
       "      <td>To perform this job successfully, an individua...</td>\n",
       "      <td></td>\n",
       "      <td>26 January 2004</td>\n",
       "      <td></td>\n",
       "    </tr>\n",
       "    <tr>\n",
       "      <th>1</th>\n",
       "      <td>Full-time Community Connections Intern (paid i...</td>\n",
       "      <td>3 months</td>\n",
       "      <td>IREX Armenia Main Office. Yerevan, Armenia</td>\n",
       "      <td>IREX currently seeks to fill the position of a...</td>\n",
       "      <td>- Presenting the CC program to interested part...</td>\n",
       "      <td>- Bachelor's Degree. Master's is preferred.\\r\\...</td>\n",
       "      <td>Commensurate with experience.</td>\n",
       "      <td>12 January 2004</td>\n",
       "      <td>The International Research &amp; Exchanges Board (...</td>\n",
       "    </tr>\n",
       "    <tr>\n",
       "      <th>2</th>\n",
       "      <td>Country Coordinator</td>\n",
       "      <td>Renewable annual contract</td>\n",
       "      <td>Yerevan, Armenia</td>\n",
       "      <td>Public outreach and strengthening of a growing...</td>\n",
       "      <td>- Working with the Country Director to provide...</td>\n",
       "      <td>- Degree in environmentally related field, or ...</td>\n",
       "      <td>Salary commensurate with experience.</td>\n",
       "      <td>20 January 2004</td>\n",
       "      <td>The Caucasus Environmental NGO Network is a no...</td>\n",
       "    </tr>\n",
       "    <tr>\n",
       "      <th>3</th>\n",
       "      <td>BCC Specialist</td>\n",
       "      <td></td>\n",
       "      <td>Manila, Philippines</td>\n",
       "      <td>The LEAD (Local Enhancement and Development fo...</td>\n",
       "      <td>- Identify gaps in knowledge and overseeing in...</td>\n",
       "      <td>- Advanced degree in public health, social sci...</td>\n",
       "      <td></td>\n",
       "      <td>23 January 2004</td>\n",
       "      <td></td>\n",
       "    </tr>\n",
       "    <tr>\n",
       "      <th>4</th>\n",
       "      <td>Software Developer</td>\n",
       "      <td></td>\n",
       "      <td>Yerevan, Armenia</td>\n",
       "      <td></td>\n",
       "      <td>- Rendering technical assistance to Database M...</td>\n",
       "      <td>- University degree. economical background is ...</td>\n",
       "      <td>Will be commensurate with the norms accepted i...</td>\n",
       "      <td>20 January 2004, 18:00</td>\n",
       "      <td></td>\n",
       "    </tr>\n",
       "  </tbody>\n",
       "</table>\n",
       "</div>"
      ],
      "text/plain": [
       "                                           JOB_TITLE  \\\n",
       "0                            Chief Financial Officer   \n",
       "1  Full-time Community Connections Intern (paid i...   \n",
       "2                                Country Coordinator   \n",
       "3                                     BCC Specialist   \n",
       "4                                 Software Developer   \n",
       "\n",
       "           POSITION_DURATION                           POSITION_LOCATION  \\\n",
       "0                                                       Yerevan, Armenia   \n",
       "1                   3 months  IREX Armenia Main Office. Yerevan, Armenia   \n",
       "2  Renewable annual contract                            Yerevan, Armenia   \n",
       "3                                                    Manila, Philippines   \n",
       "4                                                       Yerevan, Armenia   \n",
       "\n",
       "                                     JOB_DESCRIPTION  \\\n",
       "0  AMERIA Investment Consulting Company is seekin...   \n",
       "1  IREX currently seeks to fill the position of a...   \n",
       "2  Public outreach and strengthening of a growing...   \n",
       "3  The LEAD (Local Enhancement and Development fo...   \n",
       "4                                                      \n",
       "\n",
       "                                JOB_RESPONSIBILITIES  \\\n",
       "0  - Supervises financial management and administ...   \n",
       "1  - Presenting the CC program to interested part...   \n",
       "2  - Working with the Country Director to provide...   \n",
       "3  - Identify gaps in knowledge and overseeing in...   \n",
       "4  - Rendering technical assistance to Database M...   \n",
       "\n",
       "                             REQUIRED_QUALIFICATIONS  \\\n",
       "0  To perform this job successfully, an individua...   \n",
       "1  - Bachelor's Degree. Master's is preferred.\\r\\...   \n",
       "2  - Degree in environmentally related field, or ...   \n",
       "3  - Advanced degree in public health, social sci...   \n",
       "4  - University degree. economical background is ...   \n",
       "\n",
       "                                        REMUNERATION    APPLICATION_DEADLINE  \\\n",
       "0                                                            26 January 2004   \n",
       "1                      Commensurate with experience.         12 January 2004   \n",
       "2               Salary commensurate with experience.         20 January 2004   \n",
       "3                                                            23 January 2004   \n",
       "4  Will be commensurate with the norms accepted i...  20 January 2004, 18:00   \n",
       "\n",
       "                                       ABOUT_COMPANY  \n",
       "0                                                     \n",
       "1  The International Research & Exchanges Board (...  \n",
       "2  The Caucasus Environmental NGO Network is a no...  \n",
       "3                                                     \n",
       "4                                                     "
      ]
     },
     "execution_count": 6,
     "metadata": {},
     "output_type": "execute_result"
    }
   ],
   "source": [
    "jobpost_df = normalize_df(jobpost_df)\n",
    "# backup\n",
    "jobpost_df.to_csv('./data/jobpost.csv',\n",
    "                  encoding='utf-8', index=False)\n",
    "jobpost_df.head()"
   ]
  },
  {
   "cell_type": "markdown",
   "metadata": {},
   "source": [
    "# Retrieve the latest/ past two years\n",
    "1. Get max year\n",
    "2. Make min year to be 2 years before max year\n",
    "3. Collect company name with most ads in past 2 years"
   ]
  },
  {
   "cell_type": "code",
   "execution_count": 7,
   "metadata": {},
   "outputs": [
    {
     "name": "stdout",
     "output_type": "stream",
     "text": [
      "Company with most job ads in the past 2 years: ArmenTel CJSC\n"
     ]
    }
   ],
   "source": [
    "max_year = df.Year.max()\n",
    "min_year = max_year - 2\n",
    "\n",
    "print('Company with most job ads in the past 2 years: {}'.format(\n",
    "        df[df['Year'] >= min_year].Company.mode().values[0]))"
   ]
  },
  {
   "cell_type": "markdown",
   "metadata": {},
   "source": [
    "# Most Job Ads by Months\n",
    "1. Separate df into months\n",
    "2. Calculate max number of ads counts\n",
    "3. Retrieve df index of the max"
   ]
  },
  {
   "cell_type": "code",
   "execution_count": 8,
   "metadata": {},
   "outputs": [
    {
     "name": "stdout",
     "output_type": "stream",
     "text": [
      "Month with largest number of job ads: March\n"
     ]
    }
   ],
   "source": [
    "months = ['January', 'February', 'March', 'April', 'May', 'June',\n",
    "         'July', 'August', 'September', 'October', 'November',\n",
    "         'December']\n",
    "print('Month with largest number of job ads: {}'.format(\n",
    "        months[df.Month.value_counts().idxmax()-1]))"
   ]
  },
  {
   "cell_type": "markdown",
   "metadata": {},
   "source": [
    "# Cleaning Job Responsibilites Column\n",
    "1. Initialize spaCy nlp model\n",
    "2. Make functions for tokenization, lemmatization and stopwords removing\n",
    "3. Then clean the JOB_RESPONSIBILTIES column"
   ]
  },
  {
   "cell_type": "code",
   "execution_count": 9,
   "metadata": {},
   "outputs": [],
   "source": [
    "nlp = spacy.load('en_core_web_sm')"
   ]
  },
  {
   "cell_type": "code",
   "execution_count": 10,
   "metadata": {},
   "outputs": [],
   "source": [
    "def tokenize(text):\n",
    "    return nlp(text)\n",
    "\n",
    "def lemmatization(token):\n",
    "    return token.lemma_\n",
    "\n",
    "def process(tokens):\n",
    "    return ' '.join([lemmatization(token) for token in tokens\n",
    "                    if not token.is_stop])\n",
    "\n",
    "def clean_sentence(text):\n",
    "    sentence = tokenize(text)\n",
    "    sentence = process(sentence)\n",
    "    return sentence"
   ]
  },
  {
   "cell_type": "code",
   "execution_count": 11,
   "metadata": {},
   "outputs": [
    {
     "data": {
      "application/vnd.jupyter.widget-view+json": {
       "model_id": "890e1e878c614b8bab379d6eacbc3e41",
       "version_major": 2,
       "version_minor": 0
      },
      "text/plain": [
       "HBox(children=(IntProgress(value=0, max=19001), HTML(value='')))"
      ]
     },
     "metadata": {},
     "output_type": "display_data"
    },
    {
     "name": "stdout",
     "output_type": "stream",
     "text": [
      "\n"
     ]
    }
   ],
   "source": [
    "final_df = jobpost_df.copy()\n",
    "final_df.JOB_RESPONSIBILITIES = jobpost_df.JOB_RESPONSIBILITIES.progress_apply(\n",
    "                                    lambda x: [clean_sentence(line.strip())\n",
    "                                               for line in x.split('-')\n",
    "                                               if line])"
   ]
  },
  {
   "cell_type": "code",
   "execution_count": 12,
   "metadata": {},
   "outputs": [
    {
     "data": {
      "text/html": [
       "<div>\n",
       "<style scoped>\n",
       "    .dataframe tbody tr th:only-of-type {\n",
       "        vertical-align: middle;\n",
       "    }\n",
       "\n",
       "    .dataframe tbody tr th {\n",
       "        vertical-align: top;\n",
       "    }\n",
       "\n",
       "    .dataframe thead th {\n",
       "        text-align: right;\n",
       "    }\n",
       "</style>\n",
       "<table border=\"1\" class=\"dataframe\">\n",
       "  <thead>\n",
       "    <tr style=\"text-align: right;\">\n",
       "      <th></th>\n",
       "      <th>JOB_TITLE</th>\n",
       "      <th>POSITION_DURATION</th>\n",
       "      <th>POSITION_LOCATION</th>\n",
       "      <th>JOB_DESCRIPTION</th>\n",
       "      <th>JOB_RESPONSIBILITIES</th>\n",
       "      <th>REQUIRED_QUALIFICATIONS</th>\n",
       "      <th>REMUNERATION</th>\n",
       "      <th>APPLICATION_DEADLINE</th>\n",
       "      <th>ABOUT_COMPANY</th>\n",
       "    </tr>\n",
       "  </thead>\n",
       "  <tbody>\n",
       "    <tr>\n",
       "      <th>0</th>\n",
       "      <td>Chief Financial Officer</td>\n",
       "      <td>unavailable</td>\n",
       "      <td>Yerevan, Armenia</td>\n",
       "      <td>AMERIA Investment Consulting Company is seekin...</td>\n",
       "      <td>[supervise financial management administrative...</td>\n",
       "      <td>To perform this job successfully, an individua...</td>\n",
       "      <td></td>\n",
       "      <td>26 January 2004</td>\n",
       "      <td></td>\n",
       "    </tr>\n",
       "    <tr>\n",
       "      <th>1</th>\n",
       "      <td>Full-time Community Connections Intern (paid i...</td>\n",
       "      <td>3 months</td>\n",
       "      <td>IREX Armenia Main Office. Yerevan, Armenia</td>\n",
       "      <td>IREX currently seeks to fill the position of a...</td>\n",
       "      <td>[present CC program interested party ., assist...</td>\n",
       "      <td>- Bachelor's Degree. Master's is preferred.\\r\\...</td>\n",
       "      <td>Commensurate with experience.</td>\n",
       "      <td>12 January 2004</td>\n",
       "      <td>The International Research &amp; Exchanges Board (...</td>\n",
       "    </tr>\n",
       "    <tr>\n",
       "      <th>2</th>\n",
       "      <td>Country Coordinator</td>\n",
       "      <td>Renewable annual contract</td>\n",
       "      <td>Yerevan, Armenia</td>\n",
       "      <td>Public outreach and strengthening of a growing...</td>\n",
       "      <td>[work Country Director provide environmental i...</td>\n",
       "      <td>- Degree in environmentally related field, or ...</td>\n",
       "      <td>Salary commensurate with experience.</td>\n",
       "      <td>20 January 2004</td>\n",
       "      <td>The Caucasus Environmental NGO Network is a no...</td>\n",
       "    </tr>\n",
       "    <tr>\n",
       "      <th>3</th>\n",
       "      <td>BCC Specialist</td>\n",
       "      <td>unavailable</td>\n",
       "      <td>Manila, Philippines</td>\n",
       "      <td>The LEAD (Local Enhancement and Development fo...</td>\n",
       "      <td>[identify gap knowledge oversee information co...</td>\n",
       "      <td>- Advanced degree in public health, social sci...</td>\n",
       "      <td></td>\n",
       "      <td>23 January 2004</td>\n",
       "      <td></td>\n",
       "    </tr>\n",
       "    <tr>\n",
       "      <th>4</th>\n",
       "      <td>Software Developer</td>\n",
       "      <td>unavailable</td>\n",
       "      <td>Yerevan, Armenia</td>\n",
       "      <td></td>\n",
       "      <td>[render technical assistance Database Manageme...</td>\n",
       "      <td>- University degree. economical background is ...</td>\n",
       "      <td>Will be commensurate with the norms accepted i...</td>\n",
       "      <td>20 January 2004, 18:00</td>\n",
       "      <td></td>\n",
       "    </tr>\n",
       "  </tbody>\n",
       "</table>\n",
       "</div>"
      ],
      "text/plain": [
       "                                           JOB_TITLE  \\\n",
       "0                            Chief Financial Officer   \n",
       "1  Full-time Community Connections Intern (paid i...   \n",
       "2                                Country Coordinator   \n",
       "3                                     BCC Specialist   \n",
       "4                                 Software Developer   \n",
       "\n",
       "           POSITION_DURATION                           POSITION_LOCATION  \\\n",
       "0                unavailable                            Yerevan, Armenia   \n",
       "1                   3 months  IREX Armenia Main Office. Yerevan, Armenia   \n",
       "2  Renewable annual contract                            Yerevan, Armenia   \n",
       "3                unavailable                         Manila, Philippines   \n",
       "4                unavailable                            Yerevan, Armenia   \n",
       "\n",
       "                                     JOB_DESCRIPTION  \\\n",
       "0  AMERIA Investment Consulting Company is seekin...   \n",
       "1  IREX currently seeks to fill the position of a...   \n",
       "2  Public outreach and strengthening of a growing...   \n",
       "3  The LEAD (Local Enhancement and Development fo...   \n",
       "4                                                      \n",
       "\n",
       "                                JOB_RESPONSIBILITIES  \\\n",
       "0  [supervise financial management administrative...   \n",
       "1  [present CC program interested party ., assist...   \n",
       "2  [work Country Director provide environmental i...   \n",
       "3  [identify gap knowledge oversee information co...   \n",
       "4  [render technical assistance Database Manageme...   \n",
       "\n",
       "                             REQUIRED_QUALIFICATIONS  \\\n",
       "0  To perform this job successfully, an individua...   \n",
       "1  - Bachelor's Degree. Master's is preferred.\\r\\...   \n",
       "2  - Degree in environmentally related field, or ...   \n",
       "3  - Advanced degree in public health, social sci...   \n",
       "4  - University degree. economical background is ...   \n",
       "\n",
       "                                        REMUNERATION    APPLICATION_DEADLINE  \\\n",
       "0                                                            26 January 2004   \n",
       "1                      Commensurate with experience.         12 January 2004   \n",
       "2               Salary commensurate with experience.         20 January 2004   \n",
       "3                                                            23 January 2004   \n",
       "4  Will be commensurate with the norms accepted i...  20 January 2004, 18:00   \n",
       "\n",
       "                                       ABOUT_COMPANY  \n",
       "0                                                     \n",
       "1  The International Research & Exchanges Board (...  \n",
       "2  The Caucasus Environmental NGO Network is a no...  \n",
       "3                                                     \n",
       "4                                                     "
      ]
     },
     "execution_count": 12,
     "metadata": {},
     "output_type": "execute_result"
    }
   ],
   "source": [
    "final_df.loc[final_df.POSITION_DURATION=='', 'POSITION_DURATION'] = 'unavailable'\n",
    "final_df.head()"
   ]
  },
  {
   "cell_type": "code",
   "execution_count": 13,
   "metadata": {},
   "outputs": [],
   "source": [
    "# backup\n",
    "final_df.to_csv('./data/jobpost_s3.csv', index=False, encoding='utf-8')"
   ]
  },
  {
   "cell_type": "code",
   "execution_count": 14,
   "metadata": {},
   "outputs": [],
   "source": [
    "key = os.environ.get('AWS_ACCESS_KEY_ID')\n",
    "secret = os.environ.get('AWS_SECRET_ACCESS_KEY')\n",
    "file = './data/jobpost_s3.csv'\n",
    "s3 = S3Client(key, secret)"
   ]
  },
  {
   "cell_type": "code",
   "execution_count": 17,
   "metadata": {},
   "outputs": [
    {
     "name": "stdout",
     "output_type": "stream",
     "text": [
      "./data/jobpost_s3.csv uploaded successfully!\n"
     ]
    }
   ],
   "source": [
    "response = s3.upload_file(bucket='seekk',\n",
    "                         src=file,\n",
    "                         dest='data/jobpost_s3.csv')\n",
    "\n",
    "if response:\n",
    "    print('%s uploaded successfully!' % file)\n",
    "else:\n",
    "    print('%s failed to upload!' % file)"
   ]
  },
  {
   "cell_type": "code",
   "execution_count": null,
   "metadata": {},
   "outputs": [],
   "source": []
  }
 ],
 "metadata": {
  "kernelspec": {
   "display_name": "Python 3",
   "language": "python",
   "name": "python3"
  },
  "language_info": {
   "codemirror_mode": {
    "name": "ipython",
    "version": 3
   },
   "file_extension": ".py",
   "mimetype": "text/x-python",
   "name": "python",
   "nbconvert_exporter": "python",
   "pygments_lexer": "ipython3",
   "version": "3.7.3"
  }
 },
 "nbformat": 4,
 "nbformat_minor": 2
}
