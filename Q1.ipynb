{
 "cells": [
  {
   "cell_type": "code",
   "execution_count": 1,
   "metadata": {},
   "outputs": [],
   "source": [
    "import numpy as np\n",
    "from datetime import datetime"
   ]
  },
  {
   "cell_type": "markdown",
   "metadata": {},
   "source": [
    "# Optimizing\n",
    "Optimizing with numpy and more straightforward calculation"
   ]
  },
  {
   "cell_type": "code",
   "execution_count": 2,
   "metadata": {},
   "outputs": [],
   "source": [
    "# with loop\n",
    "def looped_sum(numbers):\n",
    "    output = [np.subtract(np.sum(numbers), number)\n",
    "              for number in numbers]\n",
    "    return output"
   ]
  },
  {
   "cell_type": "markdown",
   "metadata": {},
   "source": [
    "# Further Optimization\n",
    "Optimizing with vectorization"
   ]
  },
  {
   "cell_type": "code",
   "execution_count": 3,
   "metadata": {},
   "outputs": [],
   "source": [
    "# with vectorization\n",
    "def vectorized_sum(numbers):\n",
    "    total = np.sum(numbers)\n",
    "    output = np.vectorize(np.subtract)(total, numbers)\n",
    "    return output"
   ]
  },
  {
   "cell_type": "markdown",
   "metadata": {},
   "source": [
    "# Creating list of random integers\n",
    "List of random integers with range 0 - 10 is created for testing"
   ]
  },
  {
   "cell_type": "code",
   "execution_count": 5,
   "metadata": {},
   "outputs": [
    {
     "data": {
      "text/plain": [
       "(100000,)"
      ]
     },
     "execution_count": 5,
     "metadata": {},
     "output_type": "execute_result"
    }
   ],
   "source": [
    "number_list = np.random.randint(10, size=100000)\n",
    "number_list.shape"
   ]
  },
  {
   "cell_type": "markdown",
   "metadata": {},
   "source": [
    "# Test Run\n",
    "Test run and record time taken"
   ]
  },
  {
   "cell_type": "code",
   "execution_count": 5,
   "metadata": {},
   "outputs": [
    {
     "name": "stdout",
     "output_type": "stream",
     "text": [
      "Beginning of looped sum!\n",
      "Calculation took time: 0:00:06.669511\n"
     ]
    }
   ],
   "source": [
    "print('Beginning of looped sum!')\n",
    "current_time = datetime.now()\n",
    "summation = looped_sum(number_list)\n",
    "print('Calculation took time: {}'\n",
    "      .format(datetime.now() - current_time))"
   ]
  },
  {
   "cell_type": "code",
   "execution_count": 6,
   "metadata": {},
   "outputs": [
    {
     "name": "stdout",
     "output_type": "stream",
     "text": [
      "Beginning of vectorized sum!\n",
      "Calculation took time: 0:00:00.075016\n"
     ]
    }
   ],
   "source": [
    "print('Beginning of vectorized sum!')\n",
    "current_time = datetime.now()\n",
    "summation = vectorized_sum(number_list)\n",
    "print('Calculation took time: {}'\n",
    "      .format(datetime.now() - current_time))"
   ]
  }
 ],
 "metadata": {
  "kernelspec": {
   "display_name": "Python 3",
   "language": "python",
   "name": "python3"
  },
  "language_info": {
   "codemirror_mode": {
    "name": "ipython",
    "version": 3
   },
   "file_extension": ".py",
   "mimetype": "text/x-python",
   "name": "python",
   "nbconvert_exporter": "python",
   "pygments_lexer": "ipython3",
   "version": "3.7.3"
  }
 },
 "nbformat": 4,
 "nbformat_minor": 2
}
